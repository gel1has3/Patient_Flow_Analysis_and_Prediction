{
  "nbformat": 4,
  "nbformat_minor": 0,
  "metadata": {
    "colab": {
      "name": "Patient_Flow_Prediction.ipynb",
      "provenance": [],
      "collapsed_sections": []
    },
    "kernelspec": {
      "name": "python3",
      "display_name": "Python 3"
    },
    "language_info": {
      "name": "python"
    }
  },
  "cells": [
    {
      "cell_type": "markdown",
      "source": [
        "# Ongoing project: \n",
        "\n",
        "The assumption throughout the proposal stage was to investigate deep learning timeseries analysis. During the analysis and data processing stages, we discovered that the majority of the data is irrelevant to the presented problem and the existing dataset is not a time series data set. and The focus then shifted to patient flow visualization with Sankey and prediction with machine learning. Exploring how regression, probablistic, random forest, and neural networks act on aggregated data in particular.\n",
        "\n",
        "Coded by Geletaw and Active collobrator Asaye and Balew\n",
        "\n",
        "\n",
        "# Patient flow visualization and prediction in the South-Western Ethiopian health network cluster\n",
        "\n",
        "Predictiong patient flow based on a network cluster in South-Western Ethiopia using aggregated data. One specilized hospital, three general hospital, 6 primary hospital and 12 health centers. It's ongoing project. The result will be sent for publication within this month\n",
        "\n",
        "# Dataset description\n",
        "A total of 4 years dataset from 2011E.C  to 2014 E.C. (2019 to date).\n",
        "\n",
        "The dataset contains monthly aggregated data with the variables listed below.\n",
        "\n",
        "1. 'Category', \n",
        "2. 'Name', \n",
        "3. 'Referral_in_from', \n",
        "4. 'Referral_out_to', \n",
        "5. 'Age Group',\n",
        "6. 'Gender', \n",
        "7. 'Activity', \n",
        "8.  'Month', \n",
        "9.  'Year', \n",
        "10.  'OTP_Visit_Value'\n",
        "\n",
        "\n",
        "# Challenge \n",
        "\n",
        "How do machine learning algorithms react and anticipate patient flow when using monthly level aggregated datasets? What potential insights may it generate? The month of the report and the dataset in developing countries were found in aggregated data format. Obtaining raw datasets is difficult and remain in paper-based work."
      ],
      "metadata": {
        "id": "xDwoIYYbNksg"
      }
    },
    {
      "cell_type": "markdown",
      "source": [
        "Install libraries "
      ],
      "metadata": {
        "id": "SRUPAJLUN84I"
      }
    },
    {
      "cell_type": "code",
      "source": [
        "!pip3 install keras"
      ],
      "metadata": {
        "id": "D0TsA79mNoq2"
      },
      "execution_count": 4,
      "outputs": []
    },
    {
      "cell_type": "code",
      "source": [
        "!pip install -U -q PyDrive"
      ],
      "metadata": {
        "id": "H8gk2oKSNrbJ"
      },
      "execution_count": 5,
      "outputs": []
    },
    {
      "cell_type": "code",
      "source": [
        "from pydrive.auth import GoogleAuth\n",
        "\n",
        "from pydrive.drive import GoogleDrive\n",
        "\n",
        "from google.colab import auth\n",
        "\n",
        "from oauth2client.client import GoogleCredentials"
      ],
      "metadata": {
        "id": "SN3lWnlJNwM0"
      },
      "execution_count": 6,
      "outputs": []
    },
    {
      "cell_type": "markdown",
      "source": [
        "Authentication credentials"
      ],
      "metadata": {
        "id": "ravQ3d4fOBJA"
      }
    },
    {
      "cell_type": "code",
      "source": [
        "auth.authenticate_user()\n",
        "\n",
        "gauth = GoogleAuth()\n",
        "\n",
        "gauth.credentials = GoogleCredentials.get_application_default()\n",
        "\n",
        "drive = GoogleDrive(gauth)"
      ],
      "metadata": {
        "id": "6h4LB03KNzyU"
      },
      "execution_count": 7,
      "outputs": []
    },
    {
      "cell_type": "markdown",
      "source": [
        "Download files"
      ],
      "metadata": {
        "id": "pFB3p9RXOVdZ"
      }
    },
    {
      "cell_type": "code",
      "source": [
        "# https://drive.google.com/file/d/1oAHkWNC1PMmuWU8ih1rvQVoUGl0115nr/view?usp=sharing\n",
        "fileDownloaded = drive.CreateFile({'id':'1oAHkWNC1PMmuWU8ih1rvQVoUGl0115nr'})"
      ],
      "metadata": {
        "id": "mINX0S72N2kb"
      },
      "execution_count": 8,
      "outputs": []
    },
    {
      "cell_type": "code",
      "source": [
        "fileDownloaded.GetContentFile('patientflowtrend.csv')"
      ],
      "metadata": {
        "id": "qETYAzyHOdAc"
      },
      "execution_count": 9,
      "outputs": []
    },
    {
      "cell_type": "markdown",
      "source": [
        "Import libraries "
      ],
      "metadata": {
        "id": "bwOGwiU8C5F1"
      }
    },
    {
      "cell_type": "code",
      "source": [
        "import pandas as pd\n",
        "import matplotlib.pyplot as plt\n",
        "import seaborn as sns\n",
        "import numpy as np\n",
        "from sklearn import linear_model\n",
        "from datetime import datetime\n",
        "# Import label encoder\n",
        "from sklearn import preprocessing\n",
        "from sklearn.metrics import mean_squared_error, r2_score\n",
        "from sklearn.model_selection import train_test_split\n",
        "from sklearn.linear_model import LinearRegression\n",
        "\n",
        "from sklearn.ensemble import RandomForestClassifier\n",
        "from sklearn.datasets import make_classification\n",
        "from sklearn.naive_bayes import GaussianNB\n",
        "from sklearn.neural_network import MLPClassifier\n",
        "from sklearn.preprocessing import StandardScaler\n",
        "\n",
        "from sklearn import metrics\n",
        "import tensorflow as tf \n",
        "from keras import Model\n",
        "from keras.layers import Dense\n",
        "from keras.models import Sequential"
      ],
      "metadata": {
        "id": "dtwjtqENC_MW"
      },
      "execution_count": 264,
      "outputs": []
    },
    {
      "cell_type": "markdown",
      "source": [
        "Import files"
      ],
      "metadata": {
        "id": "k6QzuusXOqBv"
      }
    },
    {
      "cell_type": "code",
      "source": [
        "pfdf = pd.read_csv('patientflowtrend.csv' )"
      ],
      "metadata": {
        "id": "BoO01Hp8Olkc"
      },
      "execution_count": 80,
      "outputs": []
    },
    {
      "cell_type": "markdown",
      "source": [
        "Exploratory Data Analysis"
      ],
      "metadata": {
        "id": "W-wXdSMMPCpV"
      }
    },
    {
      "cell_type": "code",
      "source": [
        "pfdf.head()"
      ],
      "metadata": {
        "colab": {
          "base_uri": "https://localhost:8080/",
          "height": 206
        },
        "id": "ueUqQsjtO6Ho",
        "outputId": "58617d33-b19f-4e43-b0cb-8d405b5c78e1"
      },
      "execution_count": 81,
      "outputs": [
        {
          "output_type": "execute_result",
          "data": {
            "text/plain": [
              "  Category  Name Referral_in_from Referral_out_to Age Group  Gender  \\\n",
              "0       SH  JUSH               GH              SH        <5    Male   \n",
              "1       SH  JUSH               GH              SH        <5  Female   \n",
              "2       SH  JUSH               GH              SH      5-10    Male   \n",
              "3       SH  JUSH               GH              SH      5-10  Female   \n",
              "4       SH  JUSH               GH              SH     11-19    Male   \n",
              "\n",
              "            Activity Month  Year OTP_Visit_Value  \n",
              "0  Outpatient visits   Oct  2011             273  \n",
              "1  Outpatient visits   Oct  2011             382  \n",
              "2  Outpatient visits   Oct  2011             314  \n",
              "3  Outpatient visits   Oct  2011             512  \n",
              "4  Outpatient visits   Oct  2011           1,247  "
            ],
            "text/html": [
              "\n",
              "  <div id=\"df-d7767931-1bd9-463c-a347-2744a0caf228\">\n",
              "    <div class=\"colab-df-container\">\n",
              "      <div>\n",
              "<style scoped>\n",
              "    .dataframe tbody tr th:only-of-type {\n",
              "        vertical-align: middle;\n",
              "    }\n",
              "\n",
              "    .dataframe tbody tr th {\n",
              "        vertical-align: top;\n",
              "    }\n",
              "\n",
              "    .dataframe thead th {\n",
              "        text-align: right;\n",
              "    }\n",
              "</style>\n",
              "<table border=\"1\" class=\"dataframe\">\n",
              "  <thead>\n",
              "    <tr style=\"text-align: right;\">\n",
              "      <th></th>\n",
              "      <th>Category</th>\n",
              "      <th>Name</th>\n",
              "      <th>Referral_in_from</th>\n",
              "      <th>Referral_out_to</th>\n",
              "      <th>Age Group</th>\n",
              "      <th>Gender</th>\n",
              "      <th>Activity</th>\n",
              "      <th>Month</th>\n",
              "      <th>Year</th>\n",
              "      <th>OTP_Visit_Value</th>\n",
              "    </tr>\n",
              "  </thead>\n",
              "  <tbody>\n",
              "    <tr>\n",
              "      <th>0</th>\n",
              "      <td>SH</td>\n",
              "      <td>JUSH</td>\n",
              "      <td>GH</td>\n",
              "      <td>SH</td>\n",
              "      <td>&lt;5</td>\n",
              "      <td>Male</td>\n",
              "      <td>Outpatient visits</td>\n",
              "      <td>Oct</td>\n",
              "      <td>2011</td>\n",
              "      <td>273</td>\n",
              "    </tr>\n",
              "    <tr>\n",
              "      <th>1</th>\n",
              "      <td>SH</td>\n",
              "      <td>JUSH</td>\n",
              "      <td>GH</td>\n",
              "      <td>SH</td>\n",
              "      <td>&lt;5</td>\n",
              "      <td>Female</td>\n",
              "      <td>Outpatient visits</td>\n",
              "      <td>Oct</td>\n",
              "      <td>2011</td>\n",
              "      <td>382</td>\n",
              "    </tr>\n",
              "    <tr>\n",
              "      <th>2</th>\n",
              "      <td>SH</td>\n",
              "      <td>JUSH</td>\n",
              "      <td>GH</td>\n",
              "      <td>SH</td>\n",
              "      <td>5-10</td>\n",
              "      <td>Male</td>\n",
              "      <td>Outpatient visits</td>\n",
              "      <td>Oct</td>\n",
              "      <td>2011</td>\n",
              "      <td>314</td>\n",
              "    </tr>\n",
              "    <tr>\n",
              "      <th>3</th>\n",
              "      <td>SH</td>\n",
              "      <td>JUSH</td>\n",
              "      <td>GH</td>\n",
              "      <td>SH</td>\n",
              "      <td>5-10</td>\n",
              "      <td>Female</td>\n",
              "      <td>Outpatient visits</td>\n",
              "      <td>Oct</td>\n",
              "      <td>2011</td>\n",
              "      <td>512</td>\n",
              "    </tr>\n",
              "    <tr>\n",
              "      <th>4</th>\n",
              "      <td>SH</td>\n",
              "      <td>JUSH</td>\n",
              "      <td>GH</td>\n",
              "      <td>SH</td>\n",
              "      <td>11-19</td>\n",
              "      <td>Male</td>\n",
              "      <td>Outpatient visits</td>\n",
              "      <td>Oct</td>\n",
              "      <td>2011</td>\n",
              "      <td>1,247</td>\n",
              "    </tr>\n",
              "  </tbody>\n",
              "</table>\n",
              "</div>\n",
              "      <button class=\"colab-df-convert\" onclick=\"convertToInteractive('df-d7767931-1bd9-463c-a347-2744a0caf228')\"\n",
              "              title=\"Convert this dataframe to an interactive table.\"\n",
              "              style=\"display:none;\">\n",
              "        \n",
              "  <svg xmlns=\"http://www.w3.org/2000/svg\" height=\"24px\"viewBox=\"0 0 24 24\"\n",
              "       width=\"24px\">\n",
              "    <path d=\"M0 0h24v24H0V0z\" fill=\"none\"/>\n",
              "    <path d=\"M18.56 5.44l.94 2.06.94-2.06 2.06-.94-2.06-.94-.94-2.06-.94 2.06-2.06.94zm-11 1L8.5 8.5l.94-2.06 2.06-.94-2.06-.94L8.5 2.5l-.94 2.06-2.06.94zm10 10l.94 2.06.94-2.06 2.06-.94-2.06-.94-.94-2.06-.94 2.06-2.06.94z\"/><path d=\"M17.41 7.96l-1.37-1.37c-.4-.4-.92-.59-1.43-.59-.52 0-1.04.2-1.43.59L10.3 9.45l-7.72 7.72c-.78.78-.78 2.05 0 2.83L4 21.41c.39.39.9.59 1.41.59.51 0 1.02-.2 1.41-.59l7.78-7.78 2.81-2.81c.8-.78.8-2.07 0-2.86zM5.41 20L4 18.59l7.72-7.72 1.47 1.35L5.41 20z\"/>\n",
              "  </svg>\n",
              "      </button>\n",
              "      \n",
              "  <style>\n",
              "    .colab-df-container {\n",
              "      display:flex;\n",
              "      flex-wrap:wrap;\n",
              "      gap: 12px;\n",
              "    }\n",
              "\n",
              "    .colab-df-convert {\n",
              "      background-color: #E8F0FE;\n",
              "      border: none;\n",
              "      border-radius: 50%;\n",
              "      cursor: pointer;\n",
              "      display: none;\n",
              "      fill: #1967D2;\n",
              "      height: 32px;\n",
              "      padding: 0 0 0 0;\n",
              "      width: 32px;\n",
              "    }\n",
              "\n",
              "    .colab-df-convert:hover {\n",
              "      background-color: #E2EBFA;\n",
              "      box-shadow: 0px 1px 2px rgba(60, 64, 67, 0.3), 0px 1px 3px 1px rgba(60, 64, 67, 0.15);\n",
              "      fill: #174EA6;\n",
              "    }\n",
              "\n",
              "    [theme=dark] .colab-df-convert {\n",
              "      background-color: #3B4455;\n",
              "      fill: #D2E3FC;\n",
              "    }\n",
              "\n",
              "    [theme=dark] .colab-df-convert:hover {\n",
              "      background-color: #434B5C;\n",
              "      box-shadow: 0px 1px 3px 1px rgba(0, 0, 0, 0.15);\n",
              "      filter: drop-shadow(0px 1px 2px rgba(0, 0, 0, 0.3));\n",
              "      fill: #FFFFFF;\n",
              "    }\n",
              "  </style>\n",
              "\n",
              "      <script>\n",
              "        const buttonEl =\n",
              "          document.querySelector('#df-d7767931-1bd9-463c-a347-2744a0caf228 button.colab-df-convert');\n",
              "        buttonEl.style.display =\n",
              "          google.colab.kernel.accessAllowed ? 'block' : 'none';\n",
              "\n",
              "        async function convertToInteractive(key) {\n",
              "          const element = document.querySelector('#df-d7767931-1bd9-463c-a347-2744a0caf228');\n",
              "          const dataTable =\n",
              "            await google.colab.kernel.invokeFunction('convertToInteractive',\n",
              "                                                     [key], {});\n",
              "          if (!dataTable) return;\n",
              "\n",
              "          const docLinkHtml = 'Like what you see? Visit the ' +\n",
              "            '<a target=\"_blank\" href=https://colab.research.google.com/notebooks/data_table.ipynb>data table notebook</a>'\n",
              "            + ' to learn more about interactive tables.';\n",
              "          element.innerHTML = '';\n",
              "          dataTable['output_type'] = 'display_data';\n",
              "          await google.colab.output.renderOutput(dataTable, element);\n",
              "          const docLink = document.createElement('div');\n",
              "          docLink.innerHTML = docLinkHtml;\n",
              "          element.appendChild(docLink);\n",
              "        }\n",
              "      </script>\n",
              "    </div>\n",
              "  </div>\n",
              "  "
            ]
          },
          "metadata": {},
          "execution_count": 81
        }
      ]
    },
    {
      "cell_type": "code",
      "source": [
        "pfdf.dtypes"
      ],
      "metadata": {
        "colab": {
          "base_uri": "https://localhost:8080/"
        },
        "id": "ijW1tunMcjaZ",
        "outputId": "8329be68-a923-4e41-c776-bb8d0f638a0c"
      },
      "execution_count": 82,
      "outputs": [
        {
          "output_type": "execute_result",
          "data": {
            "text/plain": [
              "Category            object\n",
              "Name                object\n",
              "Referral_in_from    object\n",
              "Referral_out_to     object\n",
              "Age Group           object\n",
              "Gender              object\n",
              "Activity            object\n",
              "Month               object\n",
              "Year                 int64\n",
              "OTP_Visit_Value     object\n",
              "dtype: object"
            ]
          },
          "metadata": {},
          "execution_count": 82
        }
      ]
    },
    {
      "cell_type": "code",
      "source": [
        "pfdf['Year'] =  pfdf['Year'].astype(str)\n",
        "pfdf.dtypes"
      ],
      "metadata": {
        "colab": {
          "base_uri": "https://localhost:8080/"
        },
        "id": "nn02qISCcoHC",
        "outputId": "6f8e7679-2b91-4815-f480-b5a0d78b9a5e"
      },
      "execution_count": 83,
      "outputs": [
        {
          "output_type": "execute_result",
          "data": {
            "text/plain": [
              "Category            object\n",
              "Name                object\n",
              "Referral_in_from    object\n",
              "Referral_out_to     object\n",
              "Age Group           object\n",
              "Gender              object\n",
              "Activity            object\n",
              "Month               object\n",
              "Year                object\n",
              "OTP_Visit_Value     object\n",
              "dtype: object"
            ]
          },
          "metadata": {},
          "execution_count": 83
        }
      ]
    },
    {
      "cell_type": "code",
      "source": [
        "\n",
        "# pfdf[\"date\"] = pfdf[\"Year\"] + '-' + pfdf[\"Month\"]"
      ],
      "metadata": {
        "id": "j9B0Ra1VcAiQ"
      },
      "execution_count": 84,
      "outputs": []
    },
    {
      "cell_type": "code",
      "source": [
        "#pfdf.head()"
      ],
      "metadata": {
        "id": "AEuhpNqBPLv3"
      },
      "execution_count": 86,
      "outputs": []
    },
    {
      "cell_type": "code",
      "source": [
        "# pfdf[\"date\"] = pd.to_datetime(pfdf[\"date\"])"
      ],
      "metadata": {
        "id": "DC8T2HVsmMg4"
      },
      "execution_count": 87,
      "outputs": []
    },
    {
      "cell_type": "code",
      "source": [
        "pfdf['OTP_Visit_Value'] = pfdf['OTP_Visit_Value'].str.replace(',', '').astype(float)"
      ],
      "metadata": {
        "id": "aFoHJ8veRKEc"
      },
      "execution_count": 88,
      "outputs": []
    },
    {
      "cell_type": "code",
      "source": [
        "pfdf.dtypes"
      ],
      "metadata": {
        "colab": {
          "base_uri": "https://localhost:8080/"
        },
        "id": "xO0m87PiRaeZ",
        "outputId": "61d8fd1c-e4f0-4215-909c-2e8bb3d38c31"
      },
      "execution_count": 18,
      "outputs": [
        {
          "output_type": "execute_result",
          "data": {
            "text/plain": [
              "Category                    object\n",
              "Name                        object\n",
              "Referral_in_from            object\n",
              "Referral_out_to             object\n",
              "Age Group                   object\n",
              "Gender                      object\n",
              "Activity                    object\n",
              "Month                       object\n",
              "Year                        object\n",
              "OTP_Visit_Value            float64\n",
              "date                datetime64[ns]\n",
              "dtype: object"
            ]
          },
          "metadata": {},
          "execution_count": 18
        }
      ]
    },
    {
      "cell_type": "code",
      "source": [
        "pfdf.info()"
      ],
      "metadata": {
        "colab": {
          "base_uri": "https://localhost:8080/"
        },
        "id": "zdV_wMjtSfSU",
        "outputId": "86f593fe-08ee-41f0-8e27-d8eb0394132f"
      },
      "execution_count": 89,
      "outputs": [
        {
          "output_type": "stream",
          "name": "stdout",
          "text": [
            "<class 'pandas.core.frame.DataFrame'>\n",
            "RangeIndex: 11760 entries, 0 to 11759\n",
            "Data columns (total 10 columns):\n",
            " #   Column            Non-Null Count  Dtype  \n",
            "---  ------            --------------  -----  \n",
            " 0   Category          11760 non-null  object \n",
            " 1   Name              11760 non-null  object \n",
            " 2   Referral_in_from  11760 non-null  object \n",
            " 3   Referral_out_to   11760 non-null  object \n",
            " 4   Age Group         11760 non-null  object \n",
            " 5   Gender            11760 non-null  object \n",
            " 6   Activity          11760 non-null  object \n",
            " 7   Month             11760 non-null  object \n",
            " 8   Year              11760 non-null  object \n",
            " 9   OTP_Visit_Value   11760 non-null  float64\n",
            "dtypes: float64(1), object(9)\n",
            "memory usage: 918.9+ KB\n"
          ]
        }
      ]
    },
    {
      "cell_type": "markdown",
      "source": [
        "KDE plot"
      ],
      "metadata": {
        "id": "fIjjAAP0hjAm"
      }
    },
    {
      "cell_type": "code",
      "source": [
        "res = sns.kdeplot(pfdf['OTP_Visit_Value'], color='red', shade='True')\n",
        "plt.show()"
      ],
      "metadata": {
        "colab": {
          "base_uri": "https://localhost:8080/",
          "height": 280
        },
        "id": "3FITd5zIhk5V",
        "outputId": "58835dbf-6847-4013-9bca-0dce61cf0d55"
      },
      "execution_count": 90,
      "outputs": [
        {
          "output_type": "display_data",
          "data": {
            "text/plain": [
              "<Figure size 432x288 with 1 Axes>"
            ],
            "image/png": "[encoded data removed]"
          },
          "metadata": {
            "needs_background": "light"
          }
        }
      ]
    },
    {
      "cell_type": "markdown",
      "source": [
        "Outlier detection"
      ],
      "metadata": {
        "id": "feVB8i8hcc7W"
      }
    },
    {
      "cell_type": "code",
      "source": [
        "pfdf['OTP_Visit_Value'].mean()"
      ],
      "metadata": {
        "colab": {
          "base_uri": "https://localhost:8080/"
        },
        "id": "1lo7ZOX-iTpV",
        "outputId": "e5471684-cf35-4b74-8d2e-053f9e0fb871"
      },
      "execution_count": 96,
      "outputs": [
        {
          "output_type": "execute_result",
          "data": {
            "text/plain": [
              "235.15705782312926"
            ]
          },
          "metadata": {},
          "execution_count": 96
        }
      ]
    },
    {
      "cell_type": "code",
      "source": [
        "#pfdf.boxplot(by ='OTP_Visit_Value', grid = False)\n",
        "\n",
        "sns.boxplot(x = 'Category', y = 'OTP_Visit_Value', data = pfdf)"
      ],
      "metadata": {
        "colab": {
          "base_uri": "https://localhost:8080/",
          "height": 296
        },
        "id": "wOOfCjTfd6_k",
        "outputId": "add7f884-3b63-4b7d-8a01-02f66e50d636"
      },
      "execution_count": 92,
      "outputs": [
        {
          "output_type": "execute_result",
          "data": {
            "text/plain": [
              "<matplotlib.axes._subplots.AxesSubplot at 0x7f5d4cbdab90>"
            ]
          },
          "metadata": {},
          "execution_count": 92
        },
        {
          "output_type": "display_data",
          "data": {
            "text/plain": [
              "<Figure size 432x288 with 1 Axes>"
            ],
            "image/png": "[encoded data removed]"
          },
          "metadata": {
            "needs_background": "light"
          }
        }
      ]
    },
    {
      "cell_type": "code",
      "source": [
        "Q1 = pfdf['OTP_Visit_Value'].quantile(0.25)\n",
        "Q3 = pfdf['OTP_Visit_Value'].quantile(0.75)\n",
        "IQR = Q3 - Q1    #IQR is interquartile range. \n",
        "\n",
        "filter = (pfdf['OTP_Visit_Value'] >= Q1-1.5 * IQR) & (pfdf['OTP_Visit_Value'] <= Q3 + 1.5 *IQR)\n",
        "pfdf_filter = pfdf.loc[filter]  "
      ],
      "metadata": {
        "id": "zutrmkYMczJ6"
      },
      "execution_count": 94,
      "outputs": []
    },
    {
      "cell_type": "code",
      "source": [
        "pfdf_filter['OTP_Visit_Value'].mean()"
      ],
      "metadata": {
        "colab": {
          "base_uri": "https://localhost:8080/"
        },
        "id": "t2PflhbeiXsW",
        "outputId": "7af6c5be-a18f-4881-f4c5-a477d5e0eafe"
      },
      "execution_count": 98,
      "outputs": [
        {
          "output_type": "execute_result",
          "data": {
            "text/plain": [
              "125.6870564064251"
            ]
          },
          "metadata": {},
          "execution_count": 98
        }
      ]
    },
    {
      "cell_type": "code",
      "source": [
        "sns.boxplot(x = 'Category', y = 'OTP_Visit_Value', data = pfdf_filter)"
      ],
      "metadata": {
        "colab": {
          "base_uri": "https://localhost:8080/",
          "height": 296
        },
        "id": "ge-nwleQiHqW",
        "outputId": "9ca7cfd5-67bb-45ec-d584-b9e8d344c34a"
      },
      "execution_count": 95,
      "outputs": [
        {
          "output_type": "execute_result",
          "data": {
            "text/plain": [
              "<matplotlib.axes._subplots.AxesSubplot at 0x7f5d4cfa14d0>"
            ]
          },
          "metadata": {},
          "execution_count": 95
        },
        {
          "output_type": "display_data",
          "data": {
            "text/plain": [
              "<Figure size 432x288 with 1 Axes>"
            ],
            "image/png": "[encoded data removed]"
          },
          "metadata": {
            "needs_background": "light"
          }
        }
      ]
    },
    {
      "cell_type": "markdown",
      "source": [
        "### Stratgey -**I**\n",
        "\n",
        "Employing regression"
      ],
      "metadata": {
        "id": "ty7Gcnb0iomb"
      }
    },
    {
      "cell_type": "code",
      "source": [
        "pfdf_filtered = pfdf_filter\n",
        "pfdf_filtered.head()"
      ],
      "metadata": {
        "id": "4zxM0UObnKi8",
        "colab": {
          "base_uri": "https://localhost:8080/",
          "height": 206
        },
        "outputId": "5757a20b-b5b9-4e83-9f7f-604266579b4e"
      },
      "execution_count": 101,
      "outputs": [
        {
          "output_type": "execute_result",
          "data": {
            "text/plain": [
              "   Category  Name Referral_in_from Referral_out_to Age Group  Gender  \\\n",
              "0        SH  JUSH               GH              SH        <5    Male   \n",
              "1        SH  JUSH               GH              SH        <5  Female   \n",
              "2        SH  JUSH               GH              SH      5-10    Male   \n",
              "3        SH  JUSH               GH              SH      5-10  Female   \n",
              "13       SH  JUSH               GH              SH      >=66  Female   \n",
              "\n",
              "             Activity Month  Year  OTP_Visit_Value  \n",
              "0   Outpatient visits   Oct  2011            273.0  \n",
              "1   Outpatient visits   Oct  2011            382.0  \n",
              "2   Outpatient visits   Oct  2011            314.0  \n",
              "3   Outpatient visits   Oct  2011            512.0  \n",
              "13  Outpatient visits   Oct  2011            324.0  "
            ],
            "text/html": [
              "\n",
              "  <div id=\"df-5c13f012-3b85-4865-9481-17ddf5f068db\">\n",
              "    <div class=\"colab-df-container\">\n",
              "      <div>\n",
              "<style scoped>\n",
              "    .dataframe tbody tr th:only-of-type {\n",
              "        vertical-align: middle;\n",
              "    }\n",
              "\n",
              "    .dataframe tbody tr th {\n",
              "        vertical-align: top;\n",
              "    }\n",
              "\n",
              "    .dataframe thead th {\n",
              "        text-align: right;\n",
              "    }\n",
              "</style>\n",
              "<table border=\"1\" class=\"dataframe\">\n",
              "  <thead>\n",
              "    <tr style=\"text-align: right;\">\n",
              "      <th></th>\n",
              "      <th>Category</th>\n",
              "      <th>Name</th>\n",
              "      <th>Referral_in_from</th>\n",
              "      <th>Referral_out_to</th>\n",
              "      <th>Age Group</th>\n",
              "      <th>Gender</th>\n",
              "      <th>Activity</th>\n",
              "      <th>Month</th>\n",
              "      <th>Year</th>\n",
              "      <th>OTP_Visit_Value</th>\n",
              "    </tr>\n",
              "  </thead>\n",
              "  <tbody>\n",
              "    <tr>\n",
              "      <th>0</th>\n",
              "      <td>SH</td>\n",
              "      <td>JUSH</td>\n",
              "      <td>GH</td>\n",
              "      <td>SH</td>\n",
              "      <td>&lt;5</td>\n",
              "      <td>Male</td>\n",
              "      <td>Outpatient visits</td>\n",
              "      <td>Oct</td>\n",
              "      <td>2011</td>\n",
              "      <td>273.0</td>\n",
              "    </tr>\n",
              "    <tr>\n",
              "      <th>1</th>\n",
              "      <td>SH</td>\n",
              "      <td>JUSH</td>\n",
              "      <td>GH</td>\n",
              "      <td>SH</td>\n",
              "      <td>&lt;5</td>\n",
              "      <td>Female</td>\n",
              "      <td>Outpatient visits</td>\n",
              "      <td>Oct</td>\n",
              "      <td>2011</td>\n",
              "      <td>382.0</td>\n",
              "    </tr>\n",
              "    <tr>\n",
              "      <th>2</th>\n",
              "      <td>SH</td>\n",
              "      <td>JUSH</td>\n",
              "      <td>GH</td>\n",
              "      <td>SH</td>\n",
              "      <td>5-10</td>\n",
              "      <td>Male</td>\n",
              "      <td>Outpatient visits</td>\n",
              "      <td>Oct</td>\n",
              "      <td>2011</td>\n",
              "      <td>314.0</td>\n",
              "    </tr>\n",
              "    <tr>\n",
              "      <th>3</th>\n",
              "      <td>SH</td>\n",
              "      <td>JUSH</td>\n",
              "      <td>GH</td>\n",
              "      <td>SH</td>\n",
              "      <td>5-10</td>\n",
              "      <td>Female</td>\n",
              "      <td>Outpatient visits</td>\n",
              "      <td>Oct</td>\n",
              "      <td>2011</td>\n",
              "      <td>512.0</td>\n",
              "    </tr>\n",
              "    <tr>\n",
              "      <th>13</th>\n",
              "      <td>SH</td>\n",
              "      <td>JUSH</td>\n",
              "      <td>GH</td>\n",
              "      <td>SH</td>\n",
              "      <td>&gt;=66</td>\n",
              "      <td>Female</td>\n",
              "      <td>Outpatient visits</td>\n",
              "      <td>Oct</td>\n",
              "      <td>2011</td>\n",
              "      <td>324.0</td>\n",
              "    </tr>\n",
              "  </tbody>\n",
              "</table>\n",
              "</div>\n",
              "      <button class=\"colab-df-convert\" onclick=\"convertToInteractive('df-5c13f012-3b85-4865-9481-17ddf5f068db')\"\n",
              "              title=\"Convert this dataframe to an interactive table.\"\n",
              "              style=\"display:none;\">\n",
              "        \n",
              "  <svg xmlns=\"http://www.w3.org/2000/svg\" height=\"24px\"viewBox=\"0 0 24 24\"\n",
              "       width=\"24px\">\n",
              "    <path d=\"M0 0h24v24H0V0z\" fill=\"none\"/>\n",
              "    <path d=\"M18.56 5.44l.94 2.06.94-2.06 2.06-.94-2.06-.94-.94-2.06-.94 2.06-2.06.94zm-11 1L8.5 8.5l.94-2.06 2.06-.94-2.06-.94L8.5 2.5l-.94 2.06-2.06.94zm10 10l.94 2.06.94-2.06 2.06-.94-2.06-.94-.94-2.06-.94 2.06-2.06.94z\"/><path d=\"M17.41 7.96l-1.37-1.37c-.4-.4-.92-.59-1.43-.59-.52 0-1.04.2-1.43.59L10.3 9.45l-7.72 7.72c-.78.78-.78 2.05 0 2.83L4 21.41c.39.39.9.59 1.41.59.51 0 1.02-.2 1.41-.59l7.78-7.78 2.81-2.81c.8-.78.8-2.07 0-2.86zM5.41 20L4 18.59l7.72-7.72 1.47 1.35L5.41 20z\"/>\n",
              "  </svg>\n",
              "      </button>\n",
              "      \n",
              "  <style>\n",
              "    .colab-df-container {\n",
              "      display:flex;\n",
              "      flex-wrap:wrap;\n",
              "      gap: 12px;\n",
              "    }\n",
              "\n",
              "    .colab-df-convert {\n",
              "      background-color: #E8F0FE;\n",
              "      border: none;\n",
              "      border-radius: 50%;\n",
              "      cursor: pointer;\n",
              "      display: none;\n",
              "      fill: #1967D2;\n",
              "      height: 32px;\n",
              "      padding: 0 0 0 0;\n",
              "      width: 32px;\n",
              "    }\n",
              "\n",
              "    .colab-df-convert:hover {\n",
              "      background-color: #E2EBFA;\n",
              "      box-shadow: 0px 1px 2px rgba(60, 64, 67, 0.3), 0px 1px 3px 1px rgba(60, 64, 67, 0.15);\n",
              "      fill: #174EA6;\n",
              "    }\n",
              "\n",
              "    [theme=dark] .colab-df-convert {\n",
              "      background-color: #3B4455;\n",
              "      fill: #D2E3FC;\n",
              "    }\n",
              "\n",
              "    [theme=dark] .colab-df-convert:hover {\n",
              "      background-color: #434B5C;\n",
              "      box-shadow: 0px 1px 3px 1px rgba(0, 0, 0, 0.15);\n",
              "      filter: drop-shadow(0px 1px 2px rgba(0, 0, 0, 0.3));\n",
              "      fill: #FFFFFF;\n",
              "    }\n",
              "  </style>\n",
              "\n",
              "      <script>\n",
              "        const buttonEl =\n",
              "          document.querySelector('#df-5c13f012-3b85-4865-9481-17ddf5f068db button.colab-df-convert');\n",
              "        buttonEl.style.display =\n",
              "          google.colab.kernel.accessAllowed ? 'block' : 'none';\n",
              "\n",
              "        async function convertToInteractive(key) {\n",
              "          const element = document.querySelector('#df-5c13f012-3b85-4865-9481-17ddf5f068db');\n",
              "          const dataTable =\n",
              "            await google.colab.kernel.invokeFunction('convertToInteractive',\n",
              "                                                     [key], {});\n",
              "          if (!dataTable) return;\n",
              "\n",
              "          const docLinkHtml = 'Like what you see? Visit the ' +\n",
              "            '<a target=\"_blank\" href=https://colab.research.google.com/notebooks/data_table.ipynb>data table notebook</a>'\n",
              "            + ' to learn more about interactive tables.';\n",
              "          element.innerHTML = '';\n",
              "          dataTable['output_type'] = 'display_data';\n",
              "          await google.colab.output.renderOutput(dataTable, element);\n",
              "          const docLink = document.createElement('div');\n",
              "          docLink.innerHTML = docLinkHtml;\n",
              "          element.appendChild(docLink);\n",
              "        }\n",
              "      </script>\n",
              "    </div>\n",
              "  </div>\n",
              "  "
            ]
          },
          "metadata": {},
          "execution_count": 101
        }
      ]
    },
    {
      "cell_type": "code",
      "source": [
        "# label_encoder object knows how to understand word labels.\n",
        "label_encoder = preprocessing.LabelEncoder()\n",
        "  \n",
        "# Encode labels in column 'species'.\n",
        "pfdf_filtered['Category']= label_encoder.fit_transform(pfdf_filtered['Category'])\n",
        "pfdf_filtered['Name']= label_encoder.fit_transform(pfdf_filtered['Name'])\n",
        "pfdf_filtered['Referral_in_from']= label_encoder.fit_transform(pfdf_filtered['Referral_in_from'])\n",
        "pfdf_filtered['Referral_out_to']= label_encoder.fit_transform(pfdf_filtered['Referral_out_to'])\n",
        "pfdf_filtered['Age Group']= label_encoder.fit_transform(pfdf_filtered['Age Group'])\n",
        "pfdf_filtered['Activity']= label_encoder.fit_transform(pfdf_filtered['Activity'])\n",
        "pfdf_filtered['Month']= label_encoder.fit_transform(pfdf_filtered['Month'])\n",
        "pfdf_filtered['Gender']= label_encoder.fit_transform(pfdf_filtered['Gender'])\n",
        "pfdf_filtered.head()"
      ],
      "metadata": {
        "colab": {
          "base_uri": "https://localhost:8080/",
          "height": 1000
        },
        "id": "NGAMh_o0b_Xy",
        "outputId": "80950f30-7637-4394-ba32-0515049e4130"
      },
      "execution_count": 104,
      "outputs": [
        {
          "output_type": "stream",
          "name": "stderr",
          "text": [
            "/usr/local/lib/python3.7/dist-packages/ipykernel_launcher.py:5: SettingWithCopyWarning: \n",
            "A value is trying to be set on a copy of a slice from a DataFrame.\n",
            "Try using .loc[row_indexer,col_indexer] = value instead\n",
            "\n",
            "See the caveats in the documentation: https://pandas.pydata.org/pandas-docs/stable/user_guide/indexing.html#returning-a-view-versus-a-copy\n",
            "  \"\"\"\n",
            "/usr/local/lib/python3.7/dist-packages/ipykernel_launcher.py:6: SettingWithCopyWarning: \n",
            "A value is trying to be set on a copy of a slice from a DataFrame.\n",
            "Try using .loc[row_indexer,col_indexer] = value instead\n",
            "\n",
            "See the caveats in the documentation: https://pandas.pydata.org/pandas-docs/stable/user_guide/indexing.html#returning-a-view-versus-a-copy\n",
            "  \n",
            "/usr/local/lib/python3.7/dist-packages/ipykernel_launcher.py:7: SettingWithCopyWarning: \n",
            "A value is trying to be set on a copy of a slice from a DataFrame.\n",
            "Try using .loc[row_indexer,col_indexer] = value instead\n",
            "\n",
            "See the caveats in the documentation: https://pandas.pydata.org/pandas-docs/stable/user_guide/indexing.html#returning-a-view-versus-a-copy\n",
            "  import sys\n",
            "/usr/local/lib/python3.7/dist-packages/ipykernel_launcher.py:8: SettingWithCopyWarning: \n",
            "A value is trying to be set on a copy of a slice from a DataFrame.\n",
            "Try using .loc[row_indexer,col_indexer] = value instead\n",
            "\n",
            "See the caveats in the documentation: https://pandas.pydata.org/pandas-docs/stable/user_guide/indexing.html#returning-a-view-versus-a-copy\n",
            "  \n",
            "/usr/local/lib/python3.7/dist-packages/ipykernel_launcher.py:9: SettingWithCopyWarning: \n",
            "A value is trying to be set on a copy of a slice from a DataFrame.\n",
            "Try using .loc[row_indexer,col_indexer] = value instead\n",
            "\n",
            "See the caveats in the documentation: https://pandas.pydata.org/pandas-docs/stable/user_guide/indexing.html#returning-a-view-versus-a-copy\n",
            "  if __name__ == '__main__':\n",
            "/usr/local/lib/python3.7/dist-packages/ipykernel_launcher.py:10: SettingWithCopyWarning: \n",
            "A value is trying to be set on a copy of a slice from a DataFrame.\n",
            "Try using .loc[row_indexer,col_indexer] = value instead\n",
            "\n",
            "See the caveats in the documentation: https://pandas.pydata.org/pandas-docs/stable/user_guide/indexing.html#returning-a-view-versus-a-copy\n",
            "  # Remove the CWD from sys.path while we load stuff.\n",
            "/usr/local/lib/python3.7/dist-packages/ipykernel_launcher.py:11: SettingWithCopyWarning: \n",
            "A value is trying to be set on a copy of a slice from a DataFrame.\n",
            "Try using .loc[row_indexer,col_indexer] = value instead\n",
            "\n",
            "See the caveats in the documentation: https://pandas.pydata.org/pandas-docs/stable/user_guide/indexing.html#returning-a-view-versus-a-copy\n",
            "  # This is added back by InteractiveShellApp.init_path()\n",
            "/usr/local/lib/python3.7/dist-packages/ipykernel_launcher.py:12: SettingWithCopyWarning: \n",
            "A value is trying to be set on a copy of a slice from a DataFrame.\n",
            "Try using .loc[row_indexer,col_indexer] = value instead\n",
            "\n",
            "See the caveats in the documentation: https://pandas.pydata.org/pandas-docs/stable/user_guide/indexing.html#returning-a-view-versus-a-copy\n",
            "  if sys.path[0] == '':\n"
          ]
        },
        {
          "output_type": "execute_result",
          "data": {
            "text/plain": [
              "    Category  Name  Referral_in_from  Referral_out_to  Age Group  Gender  \\\n",
              "0          3     8                 0                3          5       1   \n",
              "1          3     8                 0                3          5       0   \n",
              "2          3     8                 0                3          4       1   \n",
              "3          3     8                 0                3          4       0   \n",
              "13         3     8                 0                3          6       0   \n",
              "\n",
              "    Activity  Month  Year  OTP_Visit_Value  \n",
              "0          0     10  2011            273.0  \n",
              "1          0     10  2011            382.0  \n",
              "2          0     10  2011            314.0  \n",
              "3          0     10  2011            512.0  \n",
              "13         0     10  2011            324.0  "
            ],
            "text/html": [
              "\n",
              "  <div id=\"df-0287c913-b880-4ba9-92bf-691596a21897\">\n",
              "    <div class=\"colab-df-container\">\n",
              "      <div>\n",
              "<style scoped>\n",
              "    .dataframe tbody tr th:only-of-type {\n",
              "        vertical-align: middle;\n",
              "    }\n",
              "\n",
              "    .dataframe tbody tr th {\n",
              "        vertical-align: top;\n",
              "    }\n",
              "\n",
              "    .dataframe thead th {\n",
              "        text-align: right;\n",
              "    }\n",
              "</style>\n",
              "<table border=\"1\" class=\"dataframe\">\n",
              "  <thead>\n",
              "    <tr style=\"text-align: right;\">\n",
              "      <th></th>\n",
              "      <th>Category</th>\n",
              "      <th>Name</th>\n",
              "      <th>Referral_in_from</th>\n",
              "      <th>Referral_out_to</th>\n",
              "      <th>Age Group</th>\n",
              "      <th>Gender</th>\n",
              "      <th>Activity</th>\n",
              "      <th>Month</th>\n",
              "      <th>Year</th>\n",
              "      <th>OTP_Visit_Value</th>\n",
              "    </tr>\n",
              "  </thead>\n",
              "  <tbody>\n",
              "    <tr>\n",
              "      <th>0</th>\n",
              "      <td>3</td>\n",
              "      <td>8</td>\n",
              "      <td>0</td>\n",
              "      <td>3</td>\n",
              "      <td>5</td>\n",
              "      <td>1</td>\n",
              "      <td>0</td>\n",
              "      <td>10</td>\n",
              "      <td>2011</td>\n",
              "      <td>273.0</td>\n",
              "    </tr>\n",
              "    <tr>\n",
              "      <th>1</th>\n",
              "      <td>3</td>\n",
              "      <td>8</td>\n",
              "      <td>0</td>\n",
              "      <td>3</td>\n",
              "      <td>5</td>\n",
              "      <td>0</td>\n",
              "      <td>0</td>\n",
              "      <td>10</td>\n",
              "      <td>2011</td>\n",
              "      <td>382.0</td>\n",
              "    </tr>\n",
              "    <tr>\n",
              "      <th>2</th>\n",
              "      <td>3</td>\n",
              "      <td>8</td>\n",
              "      <td>0</td>\n",
              "      <td>3</td>\n",
              "      <td>4</td>\n",
              "      <td>1</td>\n",
              "      <td>0</td>\n",
              "      <td>10</td>\n",
              "      <td>2011</td>\n",
              "      <td>314.0</td>\n",
              "    </tr>\n",
              "    <tr>\n",
              "      <th>3</th>\n",
              "      <td>3</td>\n",
              "      <td>8</td>\n",
              "      <td>0</td>\n",
              "      <td>3</td>\n",
              "      <td>4</td>\n",
              "      <td>0</td>\n",
              "      <td>0</td>\n",
              "      <td>10</td>\n",
              "      <td>2011</td>\n",
              "      <td>512.0</td>\n",
              "    </tr>\n",
              "    <tr>\n",
              "      <th>13</th>\n",
              "      <td>3</td>\n",
              "      <td>8</td>\n",
              "      <td>0</td>\n",
              "      <td>3</td>\n",
              "      <td>6</td>\n",
              "      <td>0</td>\n",
              "      <td>0</td>\n",
              "      <td>10</td>\n",
              "      <td>2011</td>\n",
              "      <td>324.0</td>\n",
              "    </tr>\n",
              "  </tbody>\n",
              "</table>\n",
              "</div>\n",
              "      <button class=\"colab-df-convert\" onclick=\"convertToInteractive('df-0287c913-b880-4ba9-92bf-691596a21897')\"\n",
              "              title=\"Convert this dataframe to an interactive table.\"\n",
              "              style=\"display:none;\">\n",
              "        \n",
              "  <svg xmlns=\"http://www.w3.org/2000/svg\" height=\"24px\"viewBox=\"0 0 24 24\"\n",
              "       width=\"24px\">\n",
              "    <path d=\"M0 0h24v24H0V0z\" fill=\"none\"/>\n",
              "    <path d=\"M18.56 5.44l.94 2.06.94-2.06 2.06-.94-2.06-.94-.94-2.06-.94 2.06-2.06.94zm-11 1L8.5 8.5l.94-2.06 2.06-.94-2.06-.94L8.5 2.5l-.94 2.06-2.06.94zm10 10l.94 2.06.94-2.06 2.06-.94-2.06-.94-.94-2.06-.94 2.06-2.06.94z\"/><path d=\"M17.41 7.96l-1.37-1.37c-.4-.4-.92-.59-1.43-.59-.52 0-1.04.2-1.43.59L10.3 9.45l-7.72 7.72c-.78.78-.78 2.05 0 2.83L4 21.41c.39.39.9.59 1.41.59.51 0 1.02-.2 1.41-.59l7.78-7.78 2.81-2.81c.8-.78.8-2.07 0-2.86zM5.41 20L4 18.59l7.72-7.72 1.47 1.35L5.41 20z\"/>\n",
              "  </svg>\n",
              "      </button>\n",
              "      \n",
              "  <style>\n",
              "    .colab-df-container {\n",
              "      display:flex;\n",
              "      flex-wrap:wrap;\n",
              "      gap: 12px;\n",
              "    }\n",
              "\n",
              "    .colab-df-convert {\n",
              "      background-color: #E8F0FE;\n",
              "      border: none;\n",
              "      border-radius: 50%;\n",
              "      cursor: pointer;\n",
              "      display: none;\n",
              "      fill: #1967D2;\n",
              "      height: 32px;\n",
              "      padding: 0 0 0 0;\n",
              "      width: 32px;\n",
              "    }\n",
              "\n",
              "    .colab-df-convert:hover {\n",
              "      background-color: #E2EBFA;\n",
              "      box-shadow: 0px 1px 2px rgba(60, 64, 67, 0.3), 0px 1px 3px 1px rgba(60, 64, 67, 0.15);\n",
              "      fill: #174EA6;\n",
              "    }\n",
              "\n",
              "    [theme=dark] .colab-df-convert {\n",
              "      background-color: #3B4455;\n",
              "      fill: #D2E3FC;\n",
              "    }\n",
              "\n",
              "    [theme=dark] .colab-df-convert:hover {\n",
              "      background-color: #434B5C;\n",
              "      box-shadow: 0px 1px 3px 1px rgba(0, 0, 0, 0.15);\n",
              "      filter: drop-shadow(0px 1px 2px rgba(0, 0, 0, 0.3));\n",
              "      fill: #FFFFFF;\n",
              "    }\n",
              "  </style>\n",
              "\n",
              "      <script>\n",
              "        const buttonEl =\n",
              "          document.querySelector('#df-0287c913-b880-4ba9-92bf-691596a21897 button.colab-df-convert');\n",
              "        buttonEl.style.display =\n",
              "          google.colab.kernel.accessAllowed ? 'block' : 'none';\n",
              "\n",
              "        async function convertToInteractive(key) {\n",
              "          const element = document.querySelector('#df-0287c913-b880-4ba9-92bf-691596a21897');\n",
              "          const dataTable =\n",
              "            await google.colab.kernel.invokeFunction('convertToInteractive',\n",
              "                                                     [key], {});\n",
              "          if (!dataTable) return;\n",
              "\n",
              "          const docLinkHtml = 'Like what you see? Visit the ' +\n",
              "            '<a target=\"_blank\" href=https://colab.research.google.com/notebooks/data_table.ipynb>data table notebook</a>'\n",
              "            + ' to learn more about interactive tables.';\n",
              "          element.innerHTML = '';\n",
              "          dataTable['output_type'] = 'display_data';\n",
              "          await google.colab.output.renderOutput(dataTable, element);\n",
              "          const docLink = document.createElement('div');\n",
              "          docLink.innerHTML = docLinkHtml;\n",
              "          element.appendChild(docLink);\n",
              "        }\n",
              "      </script>\n",
              "    </div>\n",
              "  </div>\n",
              "  "
            ]
          },
          "metadata": {},
          "execution_count": 104
        }
      ]
    },
    {
      "cell_type": "code",
      "source": [
        "pfdf_filtered.describe().T"
      ],
      "metadata": {
        "colab": {
          "base_uri": "https://localhost:8080/",
          "height": 332
        },
        "id": "AN0kvr-jcN5e",
        "outputId": "b2410066-ab8a-444d-ba2e-7fc860cbc639"
      },
      "execution_count": 105,
      "outputs": [
        {
          "output_type": "execute_result",
          "data": {
            "text/plain": [
              "                    count        mean         std  min   25%   50%     75%  \\\n",
              "Category          10708.0    1.165951    0.638577  0.0   1.0   1.0    2.00   \n",
              "Name              10708.0   10.061356    6.054998  0.0   5.0  10.0   15.00   \n",
              "Referral_in_from  10708.0    2.059115    0.947663  0.0   1.0   2.0    2.00   \n",
              "Referral_out_to   10708.0    1.347591    1.055315  0.0   0.0   2.0    2.00   \n",
              "Age Group         10708.0    3.032499    2.011146  0.0   1.0   3.0    5.00   \n",
              "Gender            10708.0    0.506350    0.499983  0.0   0.0   1.0    1.00   \n",
              "Activity          10708.0    0.000000    0.000000  0.0   0.0   0.0    0.00   \n",
              "Month             10708.0    5.600019    3.451730  0.0   3.0   6.0    9.00   \n",
              "OTP_Visit_Value   10708.0  125.687056  144.400749  0.0  12.0  68.0  196.25   \n",
              "\n",
              "                    max  \n",
              "Category            3.0  \n",
              "Name               20.0  \n",
              "Referral_in_from    4.0  \n",
              "Referral_out_to     3.0  \n",
              "Age Group           6.0  \n",
              "Gender              1.0  \n",
              "Activity            0.0  \n",
              "Month              11.0  \n",
              "OTP_Visit_Value   615.0  "
            ],
            "text/html": [
              "\n",
              "  <div id=\"df-a69f1d2c-1bee-436d-86e2-79f810275721\">\n",
              "    <div class=\"colab-df-container\">\n",
              "      <div>\n",
              "<style scoped>\n",
              "    .dataframe tbody tr th:only-of-type {\n",
              "        vertical-align: middle;\n",
              "    }\n",
              "\n",
              "    .dataframe tbody tr th {\n",
              "        vertical-align: top;\n",
              "    }\n",
              "\n",
              "    .dataframe thead th {\n",
              "        text-align: right;\n",
              "    }\n",
              "</style>\n",
              "<table border=\"1\" class=\"dataframe\">\n",
              "  <thead>\n",
              "    <tr style=\"text-align: right;\">\n",
              "      <th></th>\n",
              "      <th>count</th>\n",
              "      <th>mean</th>\n",
              "      <th>std</th>\n",
              "      <th>min</th>\n",
              "      <th>25%</th>\n",
              "      <th>50%</th>\n",
              "      <th>75%</th>\n",
              "      <th>max</th>\n",
              "    </tr>\n",
              "  </thead>\n",
              "  <tbody>\n",
              "    <tr>\n",
              "      <th>Category</th>\n",
              "      <td>10708.0</td>\n",
              "      <td>1.165951</td>\n",
              "      <td>0.638577</td>\n",
              "      <td>0.0</td>\n",
              "      <td>1.0</td>\n",
              "      <td>1.0</td>\n",
              "      <td>2.00</td>\n",
              "      <td>3.0</td>\n",
              "    </tr>\n",
              "    <tr>\n",
              "      <th>Name</th>\n",
              "      <td>10708.0</td>\n",
              "      <td>10.061356</td>\n",
              "      <td>6.054998</td>\n",
              "      <td>0.0</td>\n",
              "      <td>5.0</td>\n",
              "      <td>10.0</td>\n",
              "      <td>15.00</td>\n",
              "      <td>20.0</td>\n",
              "    </tr>\n",
              "    <tr>\n",
              "      <th>Referral_in_from</th>\n",
              "      <td>10708.0</td>\n",
              "      <td>2.059115</td>\n",
              "      <td>0.947663</td>\n",
              "      <td>0.0</td>\n",
              "      <td>1.0</td>\n",
              "      <td>2.0</td>\n",
              "      <td>2.00</td>\n",
              "      <td>4.0</td>\n",
              "    </tr>\n",
              "    <tr>\n",
              "      <th>Referral_out_to</th>\n",
              "      <td>10708.0</td>\n",
              "      <td>1.347591</td>\n",
              "      <td>1.055315</td>\n",
              "      <td>0.0</td>\n",
              "      <td>0.0</td>\n",
              "      <td>2.0</td>\n",
              "      <td>2.00</td>\n",
              "      <td>3.0</td>\n",
              "    </tr>\n",
              "    <tr>\n",
              "      <th>Age Group</th>\n",
              "      <td>10708.0</td>\n",
              "      <td>3.032499</td>\n",
              "      <td>2.011146</td>\n",
              "      <td>0.0</td>\n",
              "      <td>1.0</td>\n",
              "      <td>3.0</td>\n",
              "      <td>5.00</td>\n",
              "      <td>6.0</td>\n",
              "    </tr>\n",
              "    <tr>\n",
              "      <th>Gender</th>\n",
              "      <td>10708.0</td>\n",
              "      <td>0.506350</td>\n",
              "      <td>0.499983</td>\n",
              "      <td>0.0</td>\n",
              "      <td>0.0</td>\n",
              "      <td>1.0</td>\n",
              "      <td>1.00</td>\n",
              "      <td>1.0</td>\n",
              "    </tr>\n",
              "    <tr>\n",
              "      <th>Activity</th>\n",
              "      <td>10708.0</td>\n",
              "      <td>0.000000</td>\n",
              "      <td>0.000000</td>\n",
              "      <td>0.0</td>\n",
              "      <td>0.0</td>\n",
              "      <td>0.0</td>\n",
              "      <td>0.00</td>\n",
              "      <td>0.0</td>\n",
              "    </tr>\n",
              "    <tr>\n",
              "      <th>Month</th>\n",
              "      <td>10708.0</td>\n",
              "      <td>5.600019</td>\n",
              "      <td>3.451730</td>\n",
              "      <td>0.0</td>\n",
              "      <td>3.0</td>\n",
              "      <td>6.0</td>\n",
              "      <td>9.00</td>\n",
              "      <td>11.0</td>\n",
              "    </tr>\n",
              "    <tr>\n",
              "      <th>OTP_Visit_Value</th>\n",
              "      <td>10708.0</td>\n",
              "      <td>125.687056</td>\n",
              "      <td>144.400749</td>\n",
              "      <td>0.0</td>\n",
              "      <td>12.0</td>\n",
              "      <td>68.0</td>\n",
              "      <td>196.25</td>\n",
              "      <td>615.0</td>\n",
              "    </tr>\n",
              "  </tbody>\n",
              "</table>\n",
              "</div>\n",
              "      <button class=\"colab-df-convert\" onclick=\"convertToInteractive('df-a69f1d2c-1bee-436d-86e2-79f810275721')\"\n",
              "              title=\"Convert this dataframe to an interactive table.\"\n",
              "              style=\"display:none;\">\n",
              "        \n",
              "  <svg xmlns=\"http://www.w3.org/2000/svg\" height=\"24px\"viewBox=\"0 0 24 24\"\n",
              "       width=\"24px\">\n",
              "    <path d=\"M0 0h24v24H0V0z\" fill=\"none\"/>\n",
              "    <path d=\"M18.56 5.44l.94 2.06.94-2.06 2.06-.94-2.06-.94-.94-2.06-.94 2.06-2.06.94zm-11 1L8.5 8.5l.94-2.06 2.06-.94-2.06-.94L8.5 2.5l-.94 2.06-2.06.94zm10 10l.94 2.06.94-2.06 2.06-.94-2.06-.94-.94-2.06-.94 2.06-2.06.94z\"/><path d=\"M17.41 7.96l-1.37-1.37c-.4-.4-.92-.59-1.43-.59-.52 0-1.04.2-1.43.59L10.3 9.45l-7.72 7.72c-.78.78-.78 2.05 0 2.83L4 21.41c.39.39.9.59 1.41.59.51 0 1.02-.2 1.41-.59l7.78-7.78 2.81-2.81c.8-.78.8-2.07 0-2.86zM5.41 20L4 18.59l7.72-7.72 1.47 1.35L5.41 20z\"/>\n",
              "  </svg>\n",
              "      </button>\n",
              "      \n",
              "  <style>\n",
              "    .colab-df-container {\n",
              "      display:flex;\n",
              "      flex-wrap:wrap;\n",
              "      gap: 12px;\n",
              "    }\n",
              "\n",
              "    .colab-df-convert {\n",
              "      background-color: #E8F0FE;\n",
              "      border: none;\n",
              "      border-radius: 50%;\n",
              "      cursor: pointer;\n",
              "      display: none;\n",
              "      fill: #1967D2;\n",
              "      height: 32px;\n",
              "      padding: 0 0 0 0;\n",
              "      width: 32px;\n",
              "    }\n",
              "\n",
              "    .colab-df-convert:hover {\n",
              "      background-color: #E2EBFA;\n",
              "      box-shadow: 0px 1px 2px rgba(60, 64, 67, 0.3), 0px 1px 3px 1px rgba(60, 64, 67, 0.15);\n",
              "      fill: #174EA6;\n",
              "    }\n",
              "\n",
              "    [theme=dark] .colab-df-convert {\n",
              "      background-color: #3B4455;\n",
              "      fill: #D2E3FC;\n",
              "    }\n",
              "\n",
              "    [theme=dark] .colab-df-convert:hover {\n",
              "      background-color: #434B5C;\n",
              "      box-shadow: 0px 1px 3px 1px rgba(0, 0, 0, 0.15);\n",
              "      filter: drop-shadow(0px 1px 2px rgba(0, 0, 0, 0.3));\n",
              "      fill: #FFFFFF;\n",
              "    }\n",
              "  </style>\n",
              "\n",
              "      <script>\n",
              "        const buttonEl =\n",
              "          document.querySelector('#df-a69f1d2c-1bee-436d-86e2-79f810275721 button.colab-df-convert');\n",
              "        buttonEl.style.display =\n",
              "          google.colab.kernel.accessAllowed ? 'block' : 'none';\n",
              "\n",
              "        async function convertToInteractive(key) {\n",
              "          const element = document.querySelector('#df-a69f1d2c-1bee-436d-86e2-79f810275721');\n",
              "          const dataTable =\n",
              "            await google.colab.kernel.invokeFunction('convertToInteractive',\n",
              "                                                     [key], {});\n",
              "          if (!dataTable) return;\n",
              "\n",
              "          const docLinkHtml = 'Like what you see? Visit the ' +\n",
              "            '<a target=\"_blank\" href=https://colab.research.google.com/notebooks/data_table.ipynb>data table notebook</a>'\n",
              "            + ' to learn more about interactive tables.';\n",
              "          element.innerHTML = '';\n",
              "          dataTable['output_type'] = 'display_data';\n",
              "          await google.colab.output.renderOutput(dataTable, element);\n",
              "          const docLink = document.createElement('div');\n",
              "          docLink.innerHTML = docLinkHtml;\n",
              "          element.appendChild(docLink);\n",
              "        }\n",
              "      </script>\n",
              "    </div>\n",
              "  </div>\n",
              "  "
            ]
          },
          "metadata": {},
          "execution_count": 105
        }
      ]
    },
    {
      "cell_type": "code",
      "source": [
        "res = sns.kdeplot(pfdf_filtered['OTP_Visit_Value'], color='red', shade='True')\n",
        "plt.show()"
      ],
      "metadata": {
        "colab": {
          "base_uri": "https://localhost:8080/",
          "height": 280
        },
        "id": "1X7tRRU4jawy",
        "outputId": "60183c37-7428-48f7-f315-e258a0735c2a"
      },
      "execution_count": 106,
      "outputs": [
        {
          "output_type": "display_data",
          "data": {
            "text/plain": [
              "<Figure size 432x288 with 1 Axes>"
            ],
            "image/png": "[encoded data removed]"
          },
          "metadata": {
            "needs_background": "light"
          }
        }
      ]
    },
    {
      "cell_type": "markdown",
      "source": [
        "Train regression model"
      ],
      "metadata": {
        "id": "UhdrD3jsj-W0"
      }
    },
    {
      "cell_type": "code",
      "source": [
        "x = pfdf_filtered.drop('OTP_Visit_Value', axis=1)\n",
        "y = pfdf_filtered['OTP_Visit_Value']"
      ],
      "metadata": {
        "id": "FStNaiCTjbGA"
      },
      "execution_count": 107,
      "outputs": []
    },
    {
      "cell_type": "code",
      "source": [
        "x_train, x_test, y_train, y_test = train_test_split(x, y, test_size = 1/3)"
      ],
      "metadata": {
        "id": "SG-BnM2Bjbb0"
      },
      "execution_count": 108,
      "outputs": []
    },
    {
      "cell_type": "code",
      "source": [
        "def linear_regression(x_train, x_test, y_train, y_test):\n",
        "  # Create linear regression object\n",
        "  regr = linear_model.LinearRegression()\n",
        "\n",
        "  # Train the model using the training sets\n",
        "  regr.fit(x_train, y_train)\n",
        "  regr.fit(x_train, y_train)\n",
        "  # Make predictions using the testing set\n",
        "  y_pred = regr.predict(x_test)\n",
        "\n",
        "  # The coefficients\n",
        "  print(\"Coefficients: \\n\", regr.coef_)\n",
        "  # Make predictions using the testing set\n",
        "  y_pred = regr.predict(x_test)\n",
        "\n",
        "  # The coefficients\n",
        "  print(\"Coefficients: \\n\", regr.coef_)\n",
        "\n",
        "  # The mean squared error\n",
        "  print(\"Mean squared error: %.2f\" % mean_squared_error(y_test,y_pred))\n",
        "\n",
        "  # The coefficient of determination: 1 is perfect prediction\n",
        "  print(\"Coefficient of determination: %.2f\" % r2_score(y_test, y_pred))"
      ],
      "metadata": {
        "id": "TlireHhEkJK-"
      },
      "execution_count": 112,
      "outputs": []
    },
    {
      "cell_type": "code",
      "source": [
        "linear_regression(x_train, x_test, y_train, y_test)"
      ],
      "metadata": {
        "colab": {
          "base_uri": "https://localhost:8080/"
        },
        "id": "NAK9iaHpkJen",
        "outputId": "94cf0bf5-fd05-4224-b39d-e7235f51b5dc"
      },
      "execution_count": 113,
      "outputs": [
        {
          "output_type": "stream",
          "name": "stdout",
          "text": [
            "Coefficients: \n",
            " [-5.76259204e+01 -1.69335596e+00 -2.12703382e+01 -2.59906357e+01\n",
            " -5.96368761e+00 -8.63692863e+00 -2.66453526e-15  6.14194534e-01\n",
            "  4.21179630e+00]\n",
            "Coefficients: \n",
            " [-5.76259204e+01 -1.69335596e+00 -2.12703382e+01 -2.59906357e+01\n",
            " -5.96368761e+00 -8.63692863e+00 -2.66453526e-15  6.14194534e-01\n",
            "  4.21179630e+00]\n",
            "Mean squared error: 19616.34\n",
            "Coefficient of determination: 0.03\n"
          ]
        }
      ]
    },
    {
      "cell_type": "markdown",
      "source": [
        "#### Normalization And Standardization:\n",
        "\n",
        "Normalization is a good technique to use when you do not know the distribution of your data or when you know the distribution is not Gaussian (a bell curve). Normalization is useful when your data has varying scales and the algorithm you are using does not make assumptions about the distribution of your data, such as k-nearest neighbors and artificial neural networks.\n",
        "\n",
        "Standardization assumes that your data has a Gaussian (bell curve) distribution. This does not strictly have to be true, but the technique is more effective if your attribute distribution is Gaussian. Standardization is useful when your data has varying scales and the algorithm you are using does make assumptions about your data having a Gaussian distribution, such as linear regression, logistic regression, and linear discriminant analysis.\n",
        "\n",
        "\n",
        "\n",
        "Standardization (Standard Scalar) :\n",
        "\n",
        "Centering the variable at zero and standardizing the variance at 1. The procedure involves subtracting the mean of each observation and then dividing by the standard deviation:\n",
        "\n",
        "The result of standardization is that the features will be rescaled so that they’ll have the properties of a standard normal distribution with\n",
        "\n",
        "μ=0 and σ=1\n",
        "where μ is the mean (average) and σ is the standard deviation from the mean.\n",
        "\n",
        "More reference: https://towardsai.net/p/data-science/how-when-and-why-should-you-normalize-standardize-rescale-your-data-3f083def38ff\n",
        "\n"
      ],
      "metadata": {
        "id": "8YoYIpBgtthA"
      }
    },
    {
      "cell_type": "markdown",
      "source": [
        "Linear regression is not working on our dataset still after applying normalization and standardization"
      ],
      "metadata": {
        "id": "P4ljt7T_lKn2"
      }
    },
    {
      "cell_type": "markdown",
      "source": [
        "### Stratgey -**II**\n",
        "Convert the visit value into categorical based on ranges \n",
        "\n",
        "Classification of outflow is based on https://www.sciencedirect.com/science/article/pii/S0301211521004516 i.e. \n",
        "\n",
        "\n",
        "quiet month (≤50% of the mean), optimal month (>50% of the mean to <two times the mean) and busy month (≥two times the mean or more)."
      ],
      "metadata": {
        "id": "e_dhkUVkWd3C"
      }
    },
    {
      "cell_type": "code",
      "source": [
        "meanflow = pfdf_filter['OTP_Visit_Value'].mean()"
      ],
      "metadata": {
        "id": "GGEI_3LdXsBG"
      },
      "execution_count": 116,
      "outputs": []
    },
    {
      "cell_type": "code",
      "source": [
        "quiet_monhtly_flow_cutoff = meanflow\n",
        "print(\"quiet_monhtly_flow_cutoff = \", quiet_monhtly_flow_cutoff)"
      ],
      "metadata": {
        "colab": {
          "base_uri": "https://localhost:8080/"
        },
        "id": "Py3s2LDaYFTr",
        "outputId": "41ef7a1e-e404-4950-9ac1-a04082e388a5"
      },
      "execution_count": 117,
      "outputs": [
        {
          "output_type": "stream",
          "name": "stdout",
          "text": [
            "quiet_monhtly_flow_cutoff =  125.6870564064251\n"
          ]
        }
      ]
    },
    {
      "cell_type": "code",
      "source": [
        "optimal_monhtly_flow_cutoff = meanflow * 2\n",
        "print(\"quiet_monhtly_flow_cutoff between {} and {}\".format(quiet_monhtly_flow_cutoff, optimal_monhtly_flow_cutoff))"
      ],
      "metadata": {
        "colab": {
          "base_uri": "https://localhost:8080/"
        },
        "id": "pZh2ZGasYFv5",
        "outputId": "e4465d47-656c-457d-952e-cb4cce2b71fb"
      },
      "execution_count": 118,
      "outputs": [
        {
          "output_type": "stream",
          "name": "stdout",
          "text": [
            "quiet_monhtly_flow_cutoff between 125.6870564064251 and 251.3741128128502\n"
          ]
        }
      ]
    },
    {
      "cell_type": "code",
      "source": [
        "print(\"busy_monhtly_flow_cutoff is greater than {}\".format(optimal_monhtly_flow_cutoff))"
      ],
      "metadata": {
        "colab": {
          "base_uri": "https://localhost:8080/"
        },
        "id": "UDeJHur-YGEs",
        "outputId": "c5779912-f5de-4be8-da01-424ce764ba67"
      },
      "execution_count": 119,
      "outputs": [
        {
          "output_type": "stream",
          "name": "stdout",
          "text": [
            "busy_monhtly_flow_cutoff is greater than 251.3741128128502\n"
          ]
        }
      ]
    },
    {
      "cell_type": "code",
      "source": [
        "pfdf_filter['OTP_Visit_Value'].max()"
      ],
      "metadata": {
        "colab": {
          "base_uri": "https://localhost:8080/"
        },
        "id": "b-2c_DO9aU8N",
        "outputId": "1c43843a-e0c7-466a-adcd-f18ce12d3081"
      },
      "execution_count": 121,
      "outputs": [
        {
          "output_type": "execute_result",
          "data": {
            "text/plain": [
              "615.0"
            ]
          },
          "metadata": {},
          "execution_count": 121
        }
      ]
    },
    {
      "cell_type": "markdown",
      "source": [
        "Categorize the number of visit "
      ],
      "metadata": {
        "id": "qsb1RCadZO1E"
      }
    },
    {
      "cell_type": "code",
      "source": [
        "pfdf_filter['PatientFlow'] = pd.cut(pfdf_filter.OTP_Visit_Value,bins=[0,235,470,18887],labels=['quiet_monthly_flow','optimal_monthly_flow','busy_monthly_flow'])"
      ],
      "metadata": {
        "colab": {
          "base_uri": "https://localhost:8080/"
        },
        "id": "PM4s6ckOWmta",
        "outputId": "46a96165-ef7a-43ac-d749-701190a05b68"
      },
      "execution_count": 135,
      "outputs": [
        {
          "output_type": "stream",
          "name": "stderr",
          "text": [
            "/usr/local/lib/python3.7/dist-packages/ipykernel_launcher.py:1: SettingWithCopyWarning: \n",
            "A value is trying to be set on a copy of a slice from a DataFrame.\n",
            "Try using .loc[row_indexer,col_indexer] = value instead\n",
            "\n",
            "See the caveats in the documentation: https://pandas.pydata.org/pandas-docs/stable/user_guide/indexing.html#returning-a-view-versus-a-copy\n",
            "  \"\"\"Entry point for launching an IPython kernel.\n"
          ]
        }
      ]
    },
    {
      "cell_type": "code",
      "source": [
        "pfdf_filter['PatientFlow'].nunique()\n",
        "pfdf_filter"
      ],
      "metadata": {
        "colab": {
          "base_uri": "https://localhost:8080/",
          "height": 424
        },
        "id": "Ie2dT1xLWoJc",
        "outputId": "87c5d73f-af97-4e84-f980-d16b1807dd01"
      },
      "execution_count": 136,
      "outputs": [
        {
          "output_type": "execute_result",
          "data": {
            "text/plain": [
              "       Category  Name  Referral_in_from  Referral_out_to  Age Group  Gender  \\\n",
              "0             3     8                 0                3          5       1   \n",
              "1             3     8                 0                3          5       0   \n",
              "2             3     8                 0                3          4       1   \n",
              "3             3     8                 0                3          4       0   \n",
              "13            3     8                 0                3          6       0   \n",
              "...         ...   ...               ...              ...        ...     ...   \n",
              "11755         1    20                 2                2          2       0   \n",
              "11756         1    20                 2                2          3       1   \n",
              "11757         1    20                 2                2          3       0   \n",
              "11758         1    20                 2                2          6       1   \n",
              "11759         1    20                 2                2          6       0   \n",
              "\n",
              "       Activity  Month  Year  OTP_Visit_Value           PatientFlow  \n",
              "0             0     10  2011            273.0  optimal_monthly_flow  \n",
              "1             0     10  2011            382.0  optimal_monthly_flow  \n",
              "2             0     10  2011            314.0  optimal_monthly_flow  \n",
              "3             0     10  2011            512.0     busy_monthly_flow  \n",
              "13            0     10  2011            324.0  optimal_monthly_flow  \n",
              "...         ...    ...   ...              ...                   ...  \n",
              "11755         0      4  2014            180.0    quiet_monthly_flow  \n",
              "11756         0      4  2014            230.0    quiet_monthly_flow  \n",
              "11757         0      4  2014            191.0    quiet_monthly_flow  \n",
              "11758         0      4  2014            233.0    quiet_monthly_flow  \n",
              "11759         0      4  2014            178.0    quiet_monthly_flow  \n",
              "\n",
              "[10708 rows x 11 columns]"
            ],
            "text/html": [
              "\n",
              "  <div id=\"df-3f7038b9-5035-46ec-b389-1a9faba35265\">\n",
              "    <div class=\"colab-df-container\">\n",
              "      <div>\n",
              "<style scoped>\n",
              "    .dataframe tbody tr th:only-of-type {\n",
              "        vertical-align: middle;\n",
              "    }\n",
              "\n",
              "    .dataframe tbody tr th {\n",
              "        vertical-align: top;\n",
              "    }\n",
              "\n",
              "    .dataframe thead th {\n",
              "        text-align: right;\n",
              "    }\n",
              "</style>\n",
              "<table border=\"1\" class=\"dataframe\">\n",
              "  <thead>\n",
              "    <tr style=\"text-align: right;\">\n",
              "      <th></th>\n",
              "      <th>Category</th>\n",
              "      <th>Name</th>\n",
              "      <th>Referral_in_from</th>\n",
              "      <th>Referral_out_to</th>\n",
              "      <th>Age Group</th>\n",
              "      <th>Gender</th>\n",
              "      <th>Activity</th>\n",
              "      <th>Month</th>\n",
              "      <th>Year</th>\n",
              "      <th>OTP_Visit_Value</th>\n",
              "      <th>PatientFlow</th>\n",
              "    </tr>\n",
              "  </thead>\n",
              "  <tbody>\n",
              "    <tr>\n",
              "      <th>0</th>\n",
              "      <td>3</td>\n",
              "      <td>8</td>\n",
              "      <td>0</td>\n",
              "      <td>3</td>\n",
              "      <td>5</td>\n",
              "      <td>1</td>\n",
              "      <td>0</td>\n",
              "      <td>10</td>\n",
              "      <td>2011</td>\n",
              "      <td>273.0</td>\n",
              "      <td>optimal_monthly_flow</td>\n",
              "    </tr>\n",
              "    <tr>\n",
              "      <th>1</th>\n",
              "      <td>3</td>\n",
              "      <td>8</td>\n",
              "      <td>0</td>\n",
              "      <td>3</td>\n",
              "      <td>5</td>\n",
              "      <td>0</td>\n",
              "      <td>0</td>\n",
              "      <td>10</td>\n",
              "      <td>2011</td>\n",
              "      <td>382.0</td>\n",
              "      <td>optimal_monthly_flow</td>\n",
              "    </tr>\n",
              "    <tr>\n",
              "      <th>2</th>\n",
              "      <td>3</td>\n",
              "      <td>8</td>\n",
              "      <td>0</td>\n",
              "      <td>3</td>\n",
              "      <td>4</td>\n",
              "      <td>1</td>\n",
              "      <td>0</td>\n",
              "      <td>10</td>\n",
              "      <td>2011</td>\n",
              "      <td>314.0</td>\n",
              "      <td>optimal_monthly_flow</td>\n",
              "    </tr>\n",
              "    <tr>\n",
              "      <th>3</th>\n",
              "      <td>3</td>\n",
              "      <td>8</td>\n",
              "      <td>0</td>\n",
              "      <td>3</td>\n",
              "      <td>4</td>\n",
              "      <td>0</td>\n",
              "      <td>0</td>\n",
              "      <td>10</td>\n",
              "      <td>2011</td>\n",
              "      <td>512.0</td>\n",
              "      <td>busy_monthly_flow</td>\n",
              "    </tr>\n",
              "    <tr>\n",
              "      <th>13</th>\n",
              "      <td>3</td>\n",
              "      <td>8</td>\n",
              "      <td>0</td>\n",
              "      <td>3</td>\n",
              "      <td>6</td>\n",
              "      <td>0</td>\n",
              "      <td>0</td>\n",
              "      <td>10</td>\n",
              "      <td>2011</td>\n",
              "      <td>324.0</td>\n",
              "      <td>optimal_monthly_flow</td>\n",
              "    </tr>\n",
              "    <tr>\n",
              "      <th>...</th>\n",
              "      <td>...</td>\n",
              "      <td>...</td>\n",
              "      <td>...</td>\n",
              "      <td>...</td>\n",
              "      <td>...</td>\n",
              "      <td>...</td>\n",
              "      <td>...</td>\n",
              "      <td>...</td>\n",
              "      <td>...</td>\n",
              "      <td>...</td>\n",
              "      <td>...</td>\n",
              "    </tr>\n",
              "    <tr>\n",
              "      <th>11755</th>\n",
              "      <td>1</td>\n",
              "      <td>20</td>\n",
              "      <td>2</td>\n",
              "      <td>2</td>\n",
              "      <td>2</td>\n",
              "      <td>0</td>\n",
              "      <td>0</td>\n",
              "      <td>4</td>\n",
              "      <td>2014</td>\n",
              "      <td>180.0</td>\n",
              "      <td>quiet_monthly_flow</td>\n",
              "    </tr>\n",
              "    <tr>\n",
              "      <th>11756</th>\n",
              "      <td>1</td>\n",
              "      <td>20</td>\n",
              "      <td>2</td>\n",
              "      <td>2</td>\n",
              "      <td>3</td>\n",
              "      <td>1</td>\n",
              "      <td>0</td>\n",
              "      <td>4</td>\n",
              "      <td>2014</td>\n",
              "      <td>230.0</td>\n",
              "      <td>quiet_monthly_flow</td>\n",
              "    </tr>\n",
              "    <tr>\n",
              "      <th>11757</th>\n",
              "      <td>1</td>\n",
              "      <td>20</td>\n",
              "      <td>2</td>\n",
              "      <td>2</td>\n",
              "      <td>3</td>\n",
              "      <td>0</td>\n",
              "      <td>0</td>\n",
              "      <td>4</td>\n",
              "      <td>2014</td>\n",
              "      <td>191.0</td>\n",
              "      <td>quiet_monthly_flow</td>\n",
              "    </tr>\n",
              "    <tr>\n",
              "      <th>11758</th>\n",
              "      <td>1</td>\n",
              "      <td>20</td>\n",
              "      <td>2</td>\n",
              "      <td>2</td>\n",
              "      <td>6</td>\n",
              "      <td>1</td>\n",
              "      <td>0</td>\n",
              "      <td>4</td>\n",
              "      <td>2014</td>\n",
              "      <td>233.0</td>\n",
              "      <td>quiet_monthly_flow</td>\n",
              "    </tr>\n",
              "    <tr>\n",
              "      <th>11759</th>\n",
              "      <td>1</td>\n",
              "      <td>20</td>\n",
              "      <td>2</td>\n",
              "      <td>2</td>\n",
              "      <td>6</td>\n",
              "      <td>0</td>\n",
              "      <td>0</td>\n",
              "      <td>4</td>\n",
              "      <td>2014</td>\n",
              "      <td>178.0</td>\n",
              "      <td>quiet_monthly_flow</td>\n",
              "    </tr>\n",
              "  </tbody>\n",
              "</table>\n",
              "<p>10708 rows × 11 columns</p>\n",
              "</div>\n",
              "      <button class=\"colab-df-convert\" onclick=\"convertToInteractive('df-3f7038b9-5035-46ec-b389-1a9faba35265')\"\n",
              "              title=\"Convert this dataframe to an interactive table.\"\n",
              "              style=\"display:none;\">\n",
              "        \n",
              "  <svg xmlns=\"http://www.w3.org/2000/svg\" height=\"24px\"viewBox=\"0 0 24 24\"\n",
              "       width=\"24px\">\n",
              "    <path d=\"M0 0h24v24H0V0z\" fill=\"none\"/>\n",
              "    <path d=\"M18.56 5.44l.94 2.06.94-2.06 2.06-.94-2.06-.94-.94-2.06-.94 2.06-2.06.94zm-11 1L8.5 8.5l.94-2.06 2.06-.94-2.06-.94L8.5 2.5l-.94 2.06-2.06.94zm10 10l.94 2.06.94-2.06 2.06-.94-2.06-.94-.94-2.06-.94 2.06-2.06.94z\"/><path d=\"M17.41 7.96l-1.37-1.37c-.4-.4-.92-.59-1.43-.59-.52 0-1.04.2-1.43.59L10.3 9.45l-7.72 7.72c-.78.78-.78 2.05 0 2.83L4 21.41c.39.39.9.59 1.41.59.51 0 1.02-.2 1.41-.59l7.78-7.78 2.81-2.81c.8-.78.8-2.07 0-2.86zM5.41 20L4 18.59l7.72-7.72 1.47 1.35L5.41 20z\"/>\n",
              "  </svg>\n",
              "      </button>\n",
              "      \n",
              "  <style>\n",
              "    .colab-df-container {\n",
              "      display:flex;\n",
              "      flex-wrap:wrap;\n",
              "      gap: 12px;\n",
              "    }\n",
              "\n",
              "    .colab-df-convert {\n",
              "      background-color: #E8F0FE;\n",
              "      border: none;\n",
              "      border-radius: 50%;\n",
              "      cursor: pointer;\n",
              "      display: none;\n",
              "      fill: #1967D2;\n",
              "      height: 32px;\n",
              "      padding: 0 0 0 0;\n",
              "      width: 32px;\n",
              "    }\n",
              "\n",
              "    .colab-df-convert:hover {\n",
              "      background-color: #E2EBFA;\n",
              "      box-shadow: 0px 1px 2px rgba(60, 64, 67, 0.3), 0px 1px 3px 1px rgba(60, 64, 67, 0.15);\n",
              "      fill: #174EA6;\n",
              "    }\n",
              "\n",
              "    [theme=dark] .colab-df-convert {\n",
              "      background-color: #3B4455;\n",
              "      fill: #D2E3FC;\n",
              "    }\n",
              "\n",
              "    [theme=dark] .colab-df-convert:hover {\n",
              "      background-color: #434B5C;\n",
              "      box-shadow: 0px 1px 3px 1px rgba(0, 0, 0, 0.15);\n",
              "      filter: drop-shadow(0px 1px 2px rgba(0, 0, 0, 0.3));\n",
              "      fill: #FFFFFF;\n",
              "    }\n",
              "  </style>\n",
              "\n",
              "      <script>\n",
              "        const buttonEl =\n",
              "          document.querySelector('#df-3f7038b9-5035-46ec-b389-1a9faba35265 button.colab-df-convert');\n",
              "        buttonEl.style.display =\n",
              "          google.colab.kernel.accessAllowed ? 'block' : 'none';\n",
              "\n",
              "        async function convertToInteractive(key) {\n",
              "          const element = document.querySelector('#df-3f7038b9-5035-46ec-b389-1a9faba35265');\n",
              "          const dataTable =\n",
              "            await google.colab.kernel.invokeFunction('convertToInteractive',\n",
              "                                                     [key], {});\n",
              "          if (!dataTable) return;\n",
              "\n",
              "          const docLinkHtml = 'Like what you see? Visit the ' +\n",
              "            '<a target=\"_blank\" href=https://colab.research.google.com/notebooks/data_table.ipynb>data table notebook</a>'\n",
              "            + ' to learn more about interactive tables.';\n",
              "          element.innerHTML = '';\n",
              "          dataTable['output_type'] = 'display_data';\n",
              "          await google.colab.output.renderOutput(dataTable, element);\n",
              "          const docLink = document.createElement('div');\n",
              "          docLink.innerHTML = docLinkHtml;\n",
              "          element.appendChild(docLink);\n",
              "        }\n",
              "      </script>\n",
              "    </div>\n",
              "  </div>\n",
              "  "
            ]
          },
          "metadata": {},
          "execution_count": 136
        }
      ]
    },
    {
      "cell_type": "code",
      "source": [
        "pfdf_filter[pfdf_filter['PatientFlow'] == 'quiet_monthly_flow']"
      ],
      "metadata": {
        "colab": {
          "base_uri": "https://localhost:8080/",
          "height": 49
        },
        "id": "KyZk2Xz_l8Hr",
        "outputId": "69634e85-31a7-4df3-9e1f-65ae8a8db956"
      },
      "execution_count": 249,
      "outputs": [
        {
          "output_type": "execute_result",
          "data": {
            "text/plain": [
              "Empty DataFrame\n",
              "Columns: [Category, Name, Referral_in_from, Referral_out_to, Age Group, Gender, Activity, Month, Year, PatientFlow]\n",
              "Index: []"
            ],
            "text/html": [
              "\n",
              "  <div id=\"df-6722ba4f-fa2f-4eae-81a9-54ddbcda3a64\">\n",
              "    <div class=\"colab-df-container\">\n",
              "      <div>\n",
              "<style scoped>\n",
              "    .dataframe tbody tr th:only-of-type {\n",
              "        vertical-align: middle;\n",
              "    }\n",
              "\n",
              "    .dataframe tbody tr th {\n",
              "        vertical-align: top;\n",
              "    }\n",
              "\n",
              "    .dataframe thead th {\n",
              "        text-align: right;\n",
              "    }\n",
              "</style>\n",
              "<table border=\"1\" class=\"dataframe\">\n",
              "  <thead>\n",
              "    <tr style=\"text-align: right;\">\n",
              "      <th></th>\n",
              "      <th>Category</th>\n",
              "      <th>Name</th>\n",
              "      <th>Referral_in_from</th>\n",
              "      <th>Referral_out_to</th>\n",
              "      <th>Age Group</th>\n",
              "      <th>Gender</th>\n",
              "      <th>Activity</th>\n",
              "      <th>Month</th>\n",
              "      <th>Year</th>\n",
              "      <th>PatientFlow</th>\n",
              "    </tr>\n",
              "  </thead>\n",
              "  <tbody>\n",
              "  </tbody>\n",
              "</table>\n",
              "</div>\n",
              "      <button class=\"colab-df-convert\" onclick=\"convertToInteractive('df-6722ba4f-fa2f-4eae-81a9-54ddbcda3a64')\"\n",
              "              title=\"Convert this dataframe to an interactive table.\"\n",
              "              style=\"display:none;\">\n",
              "        \n",
              "  <svg xmlns=\"http://www.w3.org/2000/svg\" height=\"24px\"viewBox=\"0 0 24 24\"\n",
              "       width=\"24px\">\n",
              "    <path d=\"M0 0h24v24H0V0z\" fill=\"none\"/>\n",
              "    <path d=\"M18.56 5.44l.94 2.06.94-2.06 2.06-.94-2.06-.94-.94-2.06-.94 2.06-2.06.94zm-11 1L8.5 8.5l.94-2.06 2.06-.94-2.06-.94L8.5 2.5l-.94 2.06-2.06.94zm10 10l.94 2.06.94-2.06 2.06-.94-2.06-.94-.94-2.06-.94 2.06-2.06.94z\"/><path d=\"M17.41 7.96l-1.37-1.37c-.4-.4-.92-.59-1.43-.59-.52 0-1.04.2-1.43.59L10.3 9.45l-7.72 7.72c-.78.78-.78 2.05 0 2.83L4 21.41c.39.39.9.59 1.41.59.51 0 1.02-.2 1.41-.59l7.78-7.78 2.81-2.81c.8-.78.8-2.07 0-2.86zM5.41 20L4 18.59l7.72-7.72 1.47 1.35L5.41 20z\"/>\n",
              "  </svg>\n",
              "      </button>\n",
              "      \n",
              "  <style>\n",
              "    .colab-df-container {\n",
              "      display:flex;\n",
              "      flex-wrap:wrap;\n",
              "      gap: 12px;\n",
              "    }\n",
              "\n",
              "    .colab-df-convert {\n",
              "      background-color: #E8F0FE;\n",
              "      border: none;\n",
              "      border-radius: 50%;\n",
              "      cursor: pointer;\n",
              "      display: none;\n",
              "      fill: #1967D2;\n",
              "      height: 32px;\n",
              "      padding: 0 0 0 0;\n",
              "      width: 32px;\n",
              "    }\n",
              "\n",
              "    .colab-df-convert:hover {\n",
              "      background-color: #E2EBFA;\n",
              "      box-shadow: 0px 1px 2px rgba(60, 64, 67, 0.3), 0px 1px 3px 1px rgba(60, 64, 67, 0.15);\n",
              "      fill: #174EA6;\n",
              "    }\n",
              "\n",
              "    [theme=dark] .colab-df-convert {\n",
              "      background-color: #3B4455;\n",
              "      fill: #D2E3FC;\n",
              "    }\n",
              "\n",
              "    [theme=dark] .colab-df-convert:hover {\n",
              "      background-color: #434B5C;\n",
              "      box-shadow: 0px 1px 3px 1px rgba(0, 0, 0, 0.15);\n",
              "      filter: drop-shadow(0px 1px 2px rgba(0, 0, 0, 0.3));\n",
              "      fill: #FFFFFF;\n",
              "    }\n",
              "  </style>\n",
              "\n",
              "      <script>\n",
              "        const buttonEl =\n",
              "          document.querySelector('#df-6722ba4f-fa2f-4eae-81a9-54ddbcda3a64 button.colab-df-convert');\n",
              "        buttonEl.style.display =\n",
              "          google.colab.kernel.accessAllowed ? 'block' : 'none';\n",
              "\n",
              "        async function convertToInteractive(key) {\n",
              "          const element = document.querySelector('#df-6722ba4f-fa2f-4eae-81a9-54ddbcda3a64');\n",
              "          const dataTable =\n",
              "            await google.colab.kernel.invokeFunction('convertToInteractive',\n",
              "                                                     [key], {});\n",
              "          if (!dataTable) return;\n",
              "\n",
              "          const docLinkHtml = 'Like what you see? Visit the ' +\n",
              "            '<a target=\"_blank\" href=https://colab.research.google.com/notebooks/data_table.ipynb>data table notebook</a>'\n",
              "            + ' to learn more about interactive tables.';\n",
              "          element.innerHTML = '';\n",
              "          dataTable['output_type'] = 'display_data';\n",
              "          await google.colab.output.renderOutput(dataTable, element);\n",
              "          const docLink = document.createElement('div');\n",
              "          docLink.innerHTML = docLinkHtml;\n",
              "          element.appendChild(docLink);\n",
              "        }\n",
              "      </script>\n",
              "    </div>\n",
              "  </div>\n",
              "  "
            ]
          },
          "metadata": {},
          "execution_count": 249
        }
      ]
    },
    {
      "cell_type": "code",
      "source": [
        "pfdf_filter['PatientFlow']= label_encoder.fit_transform(pfdf_filter['PatientFlow'])\n",
        "pfdf_filter"
      ],
      "metadata": {
        "colab": {
          "base_uri": "https://localhost:8080/",
          "height": 424
        },
        "id": "1rU8WD84-QqY",
        "outputId": "581c1699-c488-49ef-c328-48faa7affaa7"
      },
      "execution_count": 250,
      "outputs": [
        {
          "output_type": "execute_result",
          "data": {
            "text/plain": [
              "       Category  Name  Referral_in_from  Referral_out_to  Age Group  Gender  \\\n",
              "0             3     8                 0                3          5       1   \n",
              "1             3     8                 0                3          5       0   \n",
              "2             3     8                 0                3          4       1   \n",
              "3             3     8                 0                3          4       0   \n",
              "13            3     8                 0                3          6       0   \n",
              "...         ...   ...               ...              ...        ...     ...   \n",
              "11755         1    20                 2                2          2       0   \n",
              "11756         1    20                 2                2          3       1   \n",
              "11757         1    20                 2                2          3       0   \n",
              "11758         1    20                 2                2          6       1   \n",
              "11759         1    20                 2                2          6       0   \n",
              "\n",
              "       Activity  Month  Year  PatientFlow  \n",
              "0             0     10  2011            1  \n",
              "1             0     10  2011            1  \n",
              "2             0     10  2011            1  \n",
              "3             0     10  2011            0  \n",
              "13            0     10  2011            1  \n",
              "...         ...    ...   ...          ...  \n",
              "11755         0      4  2014            2  \n",
              "11756         0      4  2014            2  \n",
              "11757         0      4  2014            2  \n",
              "11758         0      4  2014            2  \n",
              "11759         0      4  2014            2  \n",
              "\n",
              "[8863 rows x 10 columns]"
            ],
            "text/html": [
              "\n",
              "  <div id=\"df-68e4ff61-f0e7-4a21-a383-a74bd64d2cc8\">\n",
              "    <div class=\"colab-df-container\">\n",
              "      <div>\n",
              "<style scoped>\n",
              "    .dataframe tbody tr th:only-of-type {\n",
              "        vertical-align: middle;\n",
              "    }\n",
              "\n",
              "    .dataframe tbody tr th {\n",
              "        vertical-align: top;\n",
              "    }\n",
              "\n",
              "    .dataframe thead th {\n",
              "        text-align: right;\n",
              "    }\n",
              "</style>\n",
              "<table border=\"1\" class=\"dataframe\">\n",
              "  <thead>\n",
              "    <tr style=\"text-align: right;\">\n",
              "      <th></th>\n",
              "      <th>Category</th>\n",
              "      <th>Name</th>\n",
              "      <th>Referral_in_from</th>\n",
              "      <th>Referral_out_to</th>\n",
              "      <th>Age Group</th>\n",
              "      <th>Gender</th>\n",
              "      <th>Activity</th>\n",
              "      <th>Month</th>\n",
              "      <th>Year</th>\n",
              "      <th>PatientFlow</th>\n",
              "    </tr>\n",
              "  </thead>\n",
              "  <tbody>\n",
              "    <tr>\n",
              "      <th>0</th>\n",
              "      <td>3</td>\n",
              "      <td>8</td>\n",
              "      <td>0</td>\n",
              "      <td>3</td>\n",
              "      <td>5</td>\n",
              "      <td>1</td>\n",
              "      <td>0</td>\n",
              "      <td>10</td>\n",
              "      <td>2011</td>\n",
              "      <td>1</td>\n",
              "    </tr>\n",
              "    <tr>\n",
              "      <th>1</th>\n",
              "      <td>3</td>\n",
              "      <td>8</td>\n",
              "      <td>0</td>\n",
              "      <td>3</td>\n",
              "      <td>5</td>\n",
              "      <td>0</td>\n",
              "      <td>0</td>\n",
              "      <td>10</td>\n",
              "      <td>2011</td>\n",
              "      <td>1</td>\n",
              "    </tr>\n",
              "    <tr>\n",
              "      <th>2</th>\n",
              "      <td>3</td>\n",
              "      <td>8</td>\n",
              "      <td>0</td>\n",
              "      <td>3</td>\n",
              "      <td>4</td>\n",
              "      <td>1</td>\n",
              "      <td>0</td>\n",
              "      <td>10</td>\n",
              "      <td>2011</td>\n",
              "      <td>1</td>\n",
              "    </tr>\n",
              "    <tr>\n",
              "      <th>3</th>\n",
              "      <td>3</td>\n",
              "      <td>8</td>\n",
              "      <td>0</td>\n",
              "      <td>3</td>\n",
              "      <td>4</td>\n",
              "      <td>0</td>\n",
              "      <td>0</td>\n",
              "      <td>10</td>\n",
              "      <td>2011</td>\n",
              "      <td>0</td>\n",
              "    </tr>\n",
              "    <tr>\n",
              "      <th>13</th>\n",
              "      <td>3</td>\n",
              "      <td>8</td>\n",
              "      <td>0</td>\n",
              "      <td>3</td>\n",
              "      <td>6</td>\n",
              "      <td>0</td>\n",
              "      <td>0</td>\n",
              "      <td>10</td>\n",
              "      <td>2011</td>\n",
              "      <td>1</td>\n",
              "    </tr>\n",
              "    <tr>\n",
              "      <th>...</th>\n",
              "      <td>...</td>\n",
              "      <td>...</td>\n",
              "      <td>...</td>\n",
              "      <td>...</td>\n",
              "      <td>...</td>\n",
              "      <td>...</td>\n",
              "      <td>...</td>\n",
              "      <td>...</td>\n",
              "      <td>...</td>\n",
              "      <td>...</td>\n",
              "    </tr>\n",
              "    <tr>\n",
              "      <th>11755</th>\n",
              "      <td>1</td>\n",
              "      <td>20</td>\n",
              "      <td>2</td>\n",
              "      <td>2</td>\n",
              "      <td>2</td>\n",
              "      <td>0</td>\n",
              "      <td>0</td>\n",
              "      <td>4</td>\n",
              "      <td>2014</td>\n",
              "      <td>2</td>\n",
              "    </tr>\n",
              "    <tr>\n",
              "      <th>11756</th>\n",
              "      <td>1</td>\n",
              "      <td>20</td>\n",
              "      <td>2</td>\n",
              "      <td>2</td>\n",
              "      <td>3</td>\n",
              "      <td>1</td>\n",
              "      <td>0</td>\n",
              "      <td>4</td>\n",
              "      <td>2014</td>\n",
              "      <td>2</td>\n",
              "    </tr>\n",
              "    <tr>\n",
              "      <th>11757</th>\n",
              "      <td>1</td>\n",
              "      <td>20</td>\n",
              "      <td>2</td>\n",
              "      <td>2</td>\n",
              "      <td>3</td>\n",
              "      <td>0</td>\n",
              "      <td>0</td>\n",
              "      <td>4</td>\n",
              "      <td>2014</td>\n",
              "      <td>2</td>\n",
              "    </tr>\n",
              "    <tr>\n",
              "      <th>11758</th>\n",
              "      <td>1</td>\n",
              "      <td>20</td>\n",
              "      <td>2</td>\n",
              "      <td>2</td>\n",
              "      <td>6</td>\n",
              "      <td>1</td>\n",
              "      <td>0</td>\n",
              "      <td>4</td>\n",
              "      <td>2014</td>\n",
              "      <td>2</td>\n",
              "    </tr>\n",
              "    <tr>\n",
              "      <th>11759</th>\n",
              "      <td>1</td>\n",
              "      <td>20</td>\n",
              "      <td>2</td>\n",
              "      <td>2</td>\n",
              "      <td>6</td>\n",
              "      <td>0</td>\n",
              "      <td>0</td>\n",
              "      <td>4</td>\n",
              "      <td>2014</td>\n",
              "      <td>2</td>\n",
              "    </tr>\n",
              "  </tbody>\n",
              "</table>\n",
              "<p>8863 rows × 10 columns</p>\n",
              "</div>\n",
              "      <button class=\"colab-df-convert\" onclick=\"convertToInteractive('df-68e4ff61-f0e7-4a21-a383-a74bd64d2cc8')\"\n",
              "              title=\"Convert this dataframe to an interactive table.\"\n",
              "              style=\"display:none;\">\n",
              "        \n",
              "  <svg xmlns=\"http://www.w3.org/2000/svg\" height=\"24px\"viewBox=\"0 0 24 24\"\n",
              "       width=\"24px\">\n",
              "    <path d=\"M0 0h24v24H0V0z\" fill=\"none\"/>\n",
              "    <path d=\"M18.56 5.44l.94 2.06.94-2.06 2.06-.94-2.06-.94-.94-2.06-.94 2.06-2.06.94zm-11 1L8.5 8.5l.94-2.06 2.06-.94-2.06-.94L8.5 2.5l-.94 2.06-2.06.94zm10 10l.94 2.06.94-2.06 2.06-.94-2.06-.94-.94-2.06-.94 2.06-2.06.94z\"/><path d=\"M17.41 7.96l-1.37-1.37c-.4-.4-.92-.59-1.43-.59-.52 0-1.04.2-1.43.59L10.3 9.45l-7.72 7.72c-.78.78-.78 2.05 0 2.83L4 21.41c.39.39.9.59 1.41.59.51 0 1.02-.2 1.41-.59l7.78-7.78 2.81-2.81c.8-.78.8-2.07 0-2.86zM5.41 20L4 18.59l7.72-7.72 1.47 1.35L5.41 20z\"/>\n",
              "  </svg>\n",
              "      </button>\n",
              "      \n",
              "  <style>\n",
              "    .colab-df-container {\n",
              "      display:flex;\n",
              "      flex-wrap:wrap;\n",
              "      gap: 12px;\n",
              "    }\n",
              "\n",
              "    .colab-df-convert {\n",
              "      background-color: #E8F0FE;\n",
              "      border: none;\n",
              "      border-radius: 50%;\n",
              "      cursor: pointer;\n",
              "      display: none;\n",
              "      fill: #1967D2;\n",
              "      height: 32px;\n",
              "      padding: 0 0 0 0;\n",
              "      width: 32px;\n",
              "    }\n",
              "\n",
              "    .colab-df-convert:hover {\n",
              "      background-color: #E2EBFA;\n",
              "      box-shadow: 0px 1px 2px rgba(60, 64, 67, 0.3), 0px 1px 3px 1px rgba(60, 64, 67, 0.15);\n",
              "      fill: #174EA6;\n",
              "    }\n",
              "\n",
              "    [theme=dark] .colab-df-convert {\n",
              "      background-color: #3B4455;\n",
              "      fill: #D2E3FC;\n",
              "    }\n",
              "\n",
              "    [theme=dark] .colab-df-convert:hover {\n",
              "      background-color: #434B5C;\n",
              "      box-shadow: 0px 1px 3px 1px rgba(0, 0, 0, 0.15);\n",
              "      filter: drop-shadow(0px 1px 2px rgba(0, 0, 0, 0.3));\n",
              "      fill: #FFFFFF;\n",
              "    }\n",
              "  </style>\n",
              "\n",
              "      <script>\n",
              "        const buttonEl =\n",
              "          document.querySelector('#df-68e4ff61-f0e7-4a21-a383-a74bd64d2cc8 button.colab-df-convert');\n",
              "        buttonEl.style.display =\n",
              "          google.colab.kernel.accessAllowed ? 'block' : 'none';\n",
              "\n",
              "        async function convertToInteractive(key) {\n",
              "          const element = document.querySelector('#df-68e4ff61-f0e7-4a21-a383-a74bd64d2cc8');\n",
              "          const dataTable =\n",
              "            await google.colab.kernel.invokeFunction('convertToInteractive',\n",
              "                                                     [key], {});\n",
              "          if (!dataTable) return;\n",
              "\n",
              "          const docLinkHtml = 'Like what you see? Visit the ' +\n",
              "            '<a target=\"_blank\" href=https://colab.research.google.com/notebooks/data_table.ipynb>data table notebook</a>'\n",
              "            + ' to learn more about interactive tables.';\n",
              "          element.innerHTML = '';\n",
              "          dataTable['output_type'] = 'display_data';\n",
              "          await google.colab.output.renderOutput(dataTable, element);\n",
              "          const docLink = document.createElement('div');\n",
              "          docLink.innerHTML = docLinkHtml;\n",
              "          element.appendChild(docLink);\n",
              "        }\n",
              "      </script>\n",
              "    </div>\n",
              "  </div>\n",
              "  "
            ]
          },
          "metadata": {},
          "execution_count": 250
        }
      ]
    },
    {
      "cell_type": "code",
      "source": [
        ""
      ],
      "metadata": {
        "colab": {
          "base_uri": "https://localhost:8080/"
        },
        "id": "vvwauvCC3dxR",
        "outputId": "945c6b30-ca2e-4cd6-f575-936a9bc3990c"
      },
      "execution_count": 203,
      "outputs": [
        {
          "output_type": "stream",
          "name": "stdout",
          "text": [
            "Looking in indexes: https://pypi.org/simple, https://us-python.pkg.dev/colab-wheels/public/simple/\n",
            "Requirement already satisfied: keras in /usr/local/lib/python3.7/dist-packages (2.8.0)\n"
          ]
        }
      ]
    },
    {
      "cell_type": "code",
      "source": [
        "pfdf_filter = pfdf_filter.dropna()"
      ],
      "metadata": {
        "id": "85pO4RhCtQMD"
      },
      "execution_count": 169,
      "outputs": []
    },
    {
      "cell_type": "code",
      "source": [
        "pfdf_filter['PatientFlow'].unique()"
      ],
      "metadata": {
        "colab": {
          "base_uri": "https://localhost:8080/"
        },
        "id": "ZSIs0d1TrV6y",
        "outputId": "de170186-1a04-476c-b2ff-f2eb0cc6484e"
      },
      "execution_count": 170,
      "outputs": [
        {
          "output_type": "execute_result",
          "data": {
            "text/plain": [
              "['optimal_monthly_flow', 'busy_monthly_flow', 'quiet_monthly_flow']\n",
              "Categories (3, object): ['quiet_monthly_flow' < 'optimal_monthly_flow' < 'busy_monthly_flow']"
            ]
          },
          "metadata": {},
          "execution_count": 170
        }
      ]
    },
    {
      "cell_type": "code",
      "source": [
        "x = pfdf_filter.drop('PatientFlow', axis=1)\n",
        "y = pfdf_filter['PatientFlow']"
      ],
      "metadata": {
        "id": "i1sIo2EOqJOw"
      },
      "execution_count": 171,
      "outputs": []
    },
    {
      "cell_type": "code",
      "source": [
        "x = x.drop('OTP_Visit_Value', axis=1)"
      ],
      "metadata": {
        "id": "p-6rqe6WqzbB"
      },
      "execution_count": 172,
      "outputs": []
    },
    {
      "cell_type": "code",
      "source": [
        "x_train, x_test, y_train, y_test = train_test_split(x, y, test_size = 1/3)"
      ],
      "metadata": {
        "id": "Yjbsa5fXqkaw"
      },
      "execution_count": 173,
      "outputs": []
    },
    {
      "cell_type": "code",
      "source": [
        "class supervised_learning:\n",
        "\n",
        "  def decision_tree(x_train, x_test, y_train, y_test):\n",
        "     # creating a RF classifier\n",
        "      clf = RandomForestClassifier(n_estimators = 100) \n",
        "      \n",
        "      # Training the model on the training dataset\n",
        "      # fit function is used to train the model using the training sets as parameters\n",
        "      clf.fit(x_train, y_train)\n",
        "      \n",
        "      # performing predictions on the test dataset\n",
        "      y_pred = clf.predict(x_test)\n",
        "      \n",
        "      # using metrics module for accuracy calculation\n",
        "      print(\"ACCURACY OF THE MODEL: \", metrics.accuracy_score(y_test, y_pred))\n",
        "\n",
        "\n",
        "  def naive_bayes(x_train, x_test, y_train, y_test):\n",
        "      # training the model on training set\n",
        "      gnb = GaussianNB()\n",
        "      gnb.fit(x_train, y_train)\n",
        "      \n",
        "      # making predictions on the testing set\n",
        "      y_pred = gnb.predict(x_test)\n",
        "      \n",
        "      # comparing actual response values (y_test) with predicted response values (y_pred)\n",
        "      print(\"Gaussian Naive Bayes model accuracy(in %):\", metrics.accuracy_score(y_test, y_pred)*100)\n",
        "\n",
        "  def MLP(x_train, x_test, y_train, y_test):\n",
        "      # mlp = MLPClassifier(solver='lbfgs', alpha=1e-5, hidden_layer_sizes=(15,), random_state=1)\n",
        "      mlp = MLPClassifier(alpha=1e-05, hidden_layer_sizes=(15,), random_state=1, solver='lbfgs')\n",
        "      mlp.fit(x_train, y_train)\n",
        "      y_pred = mlp.predict(x_test)\n",
        "      # using metrics module for accuracy calculation\n",
        "      print(\"ACCURACY OF THE MODEL: \", metrics.accuracy_score(y_test, y_pred))\n",
        "\n",
        "      print(\"coefs_\", mlp.coefs_)\n",
        "\n",
        "      print(\"coefs_\", mlp.predict_proba)\n",
        "\n",
        "  def nn(df):\n",
        "    # The feature data is already categorical (0 and 1) so there is no need to do any conversion on that.\n",
        "    # The label column is pfdf[Patientflow]. data.iloc[:,2:16] means takes columns 1 through 9 and all rows, where iloc is the index search operator. The colon (:) means all.\n",
        "    \n",
        "    labels=pfdf_filter['PatientFlow']\n",
        "    features = pfdf_filter.iloc[:,0:9]\n",
        "    len(features.columns)\n",
        "\n",
        "    # np.ravel(labels) create an array from the Pandas series labels.\n",
        "    X=features\n",
        "    y=np.ravel(labels)\n",
        "    X_train, X_test, y_train, y_test = train_test_split(X, y, test_size=0.3, random_state=42)\n",
        "\n",
        "    # normalize the data, which means putting it on some common scale (value – mean / standard deviation), a machine learning data convention.\n",
        "    scaler = StandardScaler().fit(X_train)\n",
        "    X_train = scaler.transform(X_train)\n",
        "    X_test = scaler.transform(X_test)\n",
        "\n",
        "    # create a neural network with three layers. The input shape is (9,1) since there are 9 feature columns in the data Pandas dataframe.\n",
        "    model = Sequential()\n",
        "    model.add(Dense(8, activation='relu', input_shape=(9,)))\n",
        "    model.add(Dense(8, activation='relu'))\n",
        "    model.add(Dense(1, activation='sigmoid'))\n",
        "    model.compile(loss='binary_crossentropy',\n",
        "    optimizer='sgd',\n",
        "    metrics=['accuracy'])\n",
        "    model.fit(X_train, y_train,epochs=8, batch_size=1, verbose=1)\n",
        "                               \n"
      ],
      "metadata": {
        "id": "rKloPZ8Mo77q"
      },
      "execution_count": 265,
      "outputs": []
    },
    {
      "cell_type": "code",
      "source": [
        "supervised_learning.decision_tree(x_train, x_test, y_train, y_test)"
      ],
      "metadata": {
        "colab": {
          "base_uri": "https://localhost:8080/"
        },
        "id": "mBv6SOIYo8cv",
        "outputId": "f5e332af-8618-47b4-acd1-07c96c89f9cf"
      },
      "execution_count": 177,
      "outputs": [
        {
          "output_type": "stream",
          "name": "stdout",
          "text": [
            "\n",
            "ACCURACY OF THE MODEL:  0.8304568527918782\n"
          ]
        }
      ]
    },
    {
      "cell_type": "code",
      "source": [
        "supervised_learning.naive_bayes(x_train, x_test, y_train, y_test)"
      ],
      "metadata": {
        "colab": {
          "base_uri": "https://localhost:8080/"
        },
        "id": "TTsjmYEnvUIz",
        "outputId": "4e57b39f-6d34-44e6-ed3b-72f8f8ffe390"
      },
      "execution_count": 182,
      "outputs": [
        {
          "output_type": "stream",
          "name": "stdout",
          "text": [
            "Gaussian Naive Bayes model accuracy(in %): 77.49576988155668\n"
          ]
        }
      ]
    },
    {
      "cell_type": "code",
      "source": [
        "supervised_learning.MLP(x_train, x_test, y_train, y_test)"
      ],
      "metadata": {
        "colab": {
          "base_uri": "https://localhost:8080/"
        },
        "id": "WpZ0im5sv2dZ",
        "outputId": "ecfdc5fa-9671-4679-8d67-301c01be5b85"
      },
      "execution_count": 192,
      "outputs": [
        {
          "output_type": "stream",
          "name": "stdout",
          "text": [
            "ACCURACY OF THE MODEL:  0.6923857868020304\n",
            "coefs_ [array([[-0.082978  ,  0.22032449, -0.49988563, -0.19766743, -0.35323887,\n",
            "        -0.40766489, -0.31373767, -0.15443704, -0.10323253,  0.03881673,\n",
            "        -0.08080934,  0.18521478, -0.29554743,  0.37811744, -0.47261356],\n",
            "       [ 0.17046751, -0.0826952 ,  0.05868983, -0.35961306, -0.30185351,\n",
            "         0.3007143 ,  0.46827999, -0.18655578,  0.19232262,  0.37638915,\n",
            "         0.39457402, -0.41499694, -0.46094326, -0.33016958,  0.3781325 ],\n",
            "       [-0.40165317, -0.07889237,  0.45788953,  0.03316528,  0.19188593,\n",
            "        -0.18449064,  0.18650475,  0.33463046, -0.48171172,  0.25014431,\n",
            "         0.48885515,  0.24815689, -0.21955638,  0.28927933, -0.39677611],\n",
            "       [-0.05210647,  0.4085955 , -0.20638585, -0.21222466, -0.36996627,\n",
            "        -0.4806367 ,  0.17883776, -0.28836913, -0.23445334, -0.00842684,\n",
            "        -0.44664096,  0.07411251, -0.3532716 ,  0.08930554,  0.19975713],\n",
            "       [-0.39766557, -0.08594401,  0.19440016, -0.08582073, -0.45003306,\n",
            "         0.03588712,  0.1638003 ,  0.01489567,  0.44459476,  0.08655504,\n",
            "         0.40339242, -0.36253807, -0.36072355,  0.30739129, -0.10232626],\n",
            "       [-0.3346458 ,  0.42750858, -0.15223414,  0.2508121 ,  0.22600002,\n",
            "         0.38330468,  0.12367307,  0.25094344, -0.15110166, -0.23007211,\n",
            "         0.3958848 , -0.07191075,  0.46484004,  0.1634415 ,  0.12169525],\n",
            "       [-0.38525403,  0.44948926, -0.05008787,  0.07838961, -0.0918632 ,\n",
            "        -0.26297302,  0.40337952,  0.07367949, -0.49712967,  0.11714491,\n",
            "        -0.1733551 ,  0.0270581 ,  0.3859421 , -0.14273024,  0.40853515],\n",
            "       [ 0.12336012, -0.48417876,  0.42943723,  0.19089692,  0.49734542,\n",
            "        -0.32767527, -0.36285464,  0.43260698,  0.19681816, -0.43399983,\n",
            "         0.25544743,  0.25385432,  0.42302422,  0.21152476, -0.37573435],\n",
            "       [-0.48011987, -0.47378901, -0.47169351, -0.25378893,  0.36879078,\n",
            "         0.03278761,  0.05650038,  0.34629951, -0.37582668, -0.22081632,\n",
            "         0.07959093,  0.4612777 ,  0.06108848, -0.48135271,  0.29861203]]), array([[-0.49424153,  0.53956423,  0.07863564],\n",
            "       [-0.34260746, -0.2859896 ,  0.28154584],\n",
            "       [-0.35168774,  0.0939452 ,  0.54273233],\n",
            "       [ 0.4004834 , -0.30039793, -0.00719411],\n",
            "       [ 0.13961573,  0.38318415, -0.40071569],\n",
            "       [-0.55579122, -0.49615073, -0.01622134],\n",
            "       [ 0.12294722,  0.08001161, -0.21156907],\n",
            "       [ 0.56525016,  0.09522604, -0.14259007],\n",
            "       [ 0.05882994,  0.2832878 ,  0.19541331],\n",
            "       [-0.27144751, -0.5007534 , -0.15001385],\n",
            "       [ 0.15004629, -0.33385906,  0.29079239],\n",
            "       [-0.49910943, -0.27249564,  0.34622049],\n",
            "       [-0.3538108 ,  0.16157419,  0.02776738],\n",
            "       [ 0.49052599, -0.27332135, -0.50118496],\n",
            "       [ 0.27233907,  0.31703693,  0.4672441 ]])]\n",
            "coefs_ <bound method MLPClassifier.predict_proba of MLPClassifier(alpha=1e-05, hidden_layer_sizes=(15,), random_state=1,\n",
            "              solver='lbfgs')>\n"
          ]
        },
        {
          "output_type": "stream",
          "name": "stderr",
          "text": [
            "/usr/local/lib/python3.7/dist-packages/sklearn/neural_network/_multilayer_perceptron.py:549: ConvergenceWarning: lbfgs failed to converge (status=2):\n",
            "ABNORMAL_TERMINATION_IN_LNSRCH.\n",
            "\n",
            "Increase the number of iterations (max_iter) or scale the data as shown in:\n",
            "    https://scikit-learn.org/stable/modules/preprocessing.html\n",
            "  self.n_iter_ = _check_optimize_result(\"lbfgs\", opt_res, self.max_iter)\n"
          ]
        }
      ]
    },
    {
      "cell_type": "code",
      "source": [
        "# x.fillna(value='', inplace=True)"
      ],
      "metadata": {
        "id": "I7Z2kYC127br"
      },
      "execution_count": 202,
      "outputs": []
    },
    {
      "cell_type": "code",
      "source": [
        "#pfdf_filter = pfdf_filter.drop('OTP_Visit_Value', axis=1)\n",
        "pfdf_filter.head()"
      ],
      "metadata": {
        "colab": {
          "base_uri": "https://localhost:8080/",
          "height": 206
        },
        "id": "LcPfQal-7Ha1",
        "outputId": "9f51d687-bb0f-4d82-fea6-3b53ac58d0ab"
      },
      "execution_count": 252,
      "outputs": [
        {
          "output_type": "execute_result",
          "data": {
            "text/plain": [
              "    Category  Name  Referral_in_from  Referral_out_to  Age Group  Gender  \\\n",
              "0          3     8                 0                3          5       1   \n",
              "1          3     8                 0                3          5       0   \n",
              "2          3     8                 0                3          4       1   \n",
              "3          3     8                 0                3          4       0   \n",
              "13         3     8                 0                3          6       0   \n",
              "\n",
              "    Activity  Month  Year  PatientFlow  \n",
              "0          0     10  2011            1  \n",
              "1          0     10  2011            1  \n",
              "2          0     10  2011            1  \n",
              "3          0     10  2011            0  \n",
              "13         0     10  2011            1  "
            ],
            "text/html": [
              "\n",
              "  <div id=\"df-84f06faa-1a1c-4029-a090-d2ab12b697b5\">\n",
              "    <div class=\"colab-df-container\">\n",
              "      <div>\n",
              "<style scoped>\n",
              "    .dataframe tbody tr th:only-of-type {\n",
              "        vertical-align: middle;\n",
              "    }\n",
              "\n",
              "    .dataframe tbody tr th {\n",
              "        vertical-align: top;\n",
              "    }\n",
              "\n",
              "    .dataframe thead th {\n",
              "        text-align: right;\n",
              "    }\n",
              "</style>\n",
              "<table border=\"1\" class=\"dataframe\">\n",
              "  <thead>\n",
              "    <tr style=\"text-align: right;\">\n",
              "      <th></th>\n",
              "      <th>Category</th>\n",
              "      <th>Name</th>\n",
              "      <th>Referral_in_from</th>\n",
              "      <th>Referral_out_to</th>\n",
              "      <th>Age Group</th>\n",
              "      <th>Gender</th>\n",
              "      <th>Activity</th>\n",
              "      <th>Month</th>\n",
              "      <th>Year</th>\n",
              "      <th>PatientFlow</th>\n",
              "    </tr>\n",
              "  </thead>\n",
              "  <tbody>\n",
              "    <tr>\n",
              "      <th>0</th>\n",
              "      <td>3</td>\n",
              "      <td>8</td>\n",
              "      <td>0</td>\n",
              "      <td>3</td>\n",
              "      <td>5</td>\n",
              "      <td>1</td>\n",
              "      <td>0</td>\n",
              "      <td>10</td>\n",
              "      <td>2011</td>\n",
              "      <td>1</td>\n",
              "    </tr>\n",
              "    <tr>\n",
              "      <th>1</th>\n",
              "      <td>3</td>\n",
              "      <td>8</td>\n",
              "      <td>0</td>\n",
              "      <td>3</td>\n",
              "      <td>5</td>\n",
              "      <td>0</td>\n",
              "      <td>0</td>\n",
              "      <td>10</td>\n",
              "      <td>2011</td>\n",
              "      <td>1</td>\n",
              "    </tr>\n",
              "    <tr>\n",
              "      <th>2</th>\n",
              "      <td>3</td>\n",
              "      <td>8</td>\n",
              "      <td>0</td>\n",
              "      <td>3</td>\n",
              "      <td>4</td>\n",
              "      <td>1</td>\n",
              "      <td>0</td>\n",
              "      <td>10</td>\n",
              "      <td>2011</td>\n",
              "      <td>1</td>\n",
              "    </tr>\n",
              "    <tr>\n",
              "      <th>3</th>\n",
              "      <td>3</td>\n",
              "      <td>8</td>\n",
              "      <td>0</td>\n",
              "      <td>3</td>\n",
              "      <td>4</td>\n",
              "      <td>0</td>\n",
              "      <td>0</td>\n",
              "      <td>10</td>\n",
              "      <td>2011</td>\n",
              "      <td>0</td>\n",
              "    </tr>\n",
              "    <tr>\n",
              "      <th>13</th>\n",
              "      <td>3</td>\n",
              "      <td>8</td>\n",
              "      <td>0</td>\n",
              "      <td>3</td>\n",
              "      <td>6</td>\n",
              "      <td>0</td>\n",
              "      <td>0</td>\n",
              "      <td>10</td>\n",
              "      <td>2011</td>\n",
              "      <td>1</td>\n",
              "    </tr>\n",
              "  </tbody>\n",
              "</table>\n",
              "</div>\n",
              "      <button class=\"colab-df-convert\" onclick=\"convertToInteractive('df-84f06faa-1a1c-4029-a090-d2ab12b697b5')\"\n",
              "              title=\"Convert this dataframe to an interactive table.\"\n",
              "              style=\"display:none;\">\n",
              "        \n",
              "  <svg xmlns=\"http://www.w3.org/2000/svg\" height=\"24px\"viewBox=\"0 0 24 24\"\n",
              "       width=\"24px\">\n",
              "    <path d=\"M0 0h24v24H0V0z\" fill=\"none\"/>\n",
              "    <path d=\"M18.56 5.44l.94 2.06.94-2.06 2.06-.94-2.06-.94-.94-2.06-.94 2.06-2.06.94zm-11 1L8.5 8.5l.94-2.06 2.06-.94-2.06-.94L8.5 2.5l-.94 2.06-2.06.94zm10 10l.94 2.06.94-2.06 2.06-.94-2.06-.94-.94-2.06-.94 2.06-2.06.94z\"/><path d=\"M17.41 7.96l-1.37-1.37c-.4-.4-.92-.59-1.43-.59-.52 0-1.04.2-1.43.59L10.3 9.45l-7.72 7.72c-.78.78-.78 2.05 0 2.83L4 21.41c.39.39.9.59 1.41.59.51 0 1.02-.2 1.41-.59l7.78-7.78 2.81-2.81c.8-.78.8-2.07 0-2.86zM5.41 20L4 18.59l7.72-7.72 1.47 1.35L5.41 20z\"/>\n",
              "  </svg>\n",
              "      </button>\n",
              "      \n",
              "  <style>\n",
              "    .colab-df-container {\n",
              "      display:flex;\n",
              "      flex-wrap:wrap;\n",
              "      gap: 12px;\n",
              "    }\n",
              "\n",
              "    .colab-df-convert {\n",
              "      background-color: #E8F0FE;\n",
              "      border: none;\n",
              "      border-radius: 50%;\n",
              "      cursor: pointer;\n",
              "      display: none;\n",
              "      fill: #1967D2;\n",
              "      height: 32px;\n",
              "      padding: 0 0 0 0;\n",
              "      width: 32px;\n",
              "    }\n",
              "\n",
              "    .colab-df-convert:hover {\n",
              "      background-color: #E2EBFA;\n",
              "      box-shadow: 0px 1px 2px rgba(60, 64, 67, 0.3), 0px 1px 3px 1px rgba(60, 64, 67, 0.15);\n",
              "      fill: #174EA6;\n",
              "    }\n",
              "\n",
              "    [theme=dark] .colab-df-convert {\n",
              "      background-color: #3B4455;\n",
              "      fill: #D2E3FC;\n",
              "    }\n",
              "\n",
              "    [theme=dark] .colab-df-convert:hover {\n",
              "      background-color: #434B5C;\n",
              "      box-shadow: 0px 1px 3px 1px rgba(0, 0, 0, 0.15);\n",
              "      filter: drop-shadow(0px 1px 2px rgba(0, 0, 0, 0.3));\n",
              "      fill: #FFFFFF;\n",
              "    }\n",
              "  </style>\n",
              "\n",
              "      <script>\n",
              "        const buttonEl =\n",
              "          document.querySelector('#df-84f06faa-1a1c-4029-a090-d2ab12b697b5 button.colab-df-convert');\n",
              "        buttonEl.style.display =\n",
              "          google.colab.kernel.accessAllowed ? 'block' : 'none';\n",
              "\n",
              "        async function convertToInteractive(key) {\n",
              "          const element = document.querySelector('#df-84f06faa-1a1c-4029-a090-d2ab12b697b5');\n",
              "          const dataTable =\n",
              "            await google.colab.kernel.invokeFunction('convertToInteractive',\n",
              "                                                     [key], {});\n",
              "          if (!dataTable) return;\n",
              "\n",
              "          const docLinkHtml = 'Like what you see? Visit the ' +\n",
              "            '<a target=\"_blank\" href=https://colab.research.google.com/notebooks/data_table.ipynb>data table notebook</a>'\n",
              "            + ' to learn more about interactive tables.';\n",
              "          element.innerHTML = '';\n",
              "          dataTable['output_type'] = 'display_data';\n",
              "          await google.colab.output.renderOutput(dataTable, element);\n",
              "          const docLink = document.createElement('div');\n",
              "          docLink.innerHTML = docLinkHtml;\n",
              "          element.appendChild(docLink);\n",
              "        }\n",
              "      </script>\n",
              "    </div>\n",
              "  </div>\n",
              "  "
            ]
          },
          "metadata": {},
          "execution_count": 252
        }
      ]
    },
    {
      "cell_type": "code",
      "source": [
        "supervised_learning.nn(pfdf_filter)"
      ],
      "metadata": {
        "colab": {
          "base_uri": "https://localhost:8080/"
        },
        "id": "pT2229wEDStg",
        "outputId": "4f8073ab-9acd-408e-dbfe-264e123a8756"
      },
      "execution_count": 262,
      "outputs": [
        {
          "output_type": "stream",
          "name": "stdout",
          "text": [
            "Epoch 1/8\n",
            "6204/6204 [==============================] - 19s 3ms/step - loss: nan - accuracy: 0.1572\n",
            "Epoch 2/8\n",
            "6204/6204 [==============================] - 15s 2ms/step - loss: nan - accuracy: 0.0477\n",
            "Epoch 3/8\n",
            "6204/6204 [==============================] - 14s 2ms/step - loss: nan - accuracy: 0.0477\n",
            "Epoch 4/8\n",
            "6204/6204 [==============================] - 9s 1ms/step - loss: nan - accuracy: 0.0477\n",
            "Epoch 5/8\n",
            "6204/6204 [==============================] - 10s 2ms/step - loss: nan - accuracy: 0.0477\n",
            "Epoch 6/8\n",
            "6204/6204 [==============================] - 10s 2ms/step - loss: nan - accuracy: 0.0477\n",
            "Epoch 7/8\n",
            "6204/6204 [==============================] - 10s 2ms/step - loss: nan - accuracy: 0.0477\n",
            "Epoch 8/8\n",
            "6204/6204 [==============================] - 9s 2ms/step - loss: nan - accuracy: 0.0477\n"
          ]
        }
      ]
    },
    {
      "cell_type": "code",
      "source": [
        ""
      ],
      "metadata": {
        "id": "vxyp9p8Y81_A"
      },
      "execution_count": null,
      "outputs": []
    },
    {
      "cell_type": "markdown",
      "source": [
        "Hyperparameter tuning"
      ],
      "metadata": {
        "id": "zgZSAdv1Dhrd"
      }
    },
    {
      "cell_type": "code",
      "source": [
        ""
      ],
      "metadata": {
        "id": "LiVcDcBq4AlX"
      },
      "execution_count": 213,
      "outputs": []
    },
    {
      "cell_type": "code",
      "source": [
        ""
      ],
      "metadata": {
        "id": "cTwGHVSN4E7G"
      },
      "execution_count": null,
      "outputs": []
    }
  ]
}